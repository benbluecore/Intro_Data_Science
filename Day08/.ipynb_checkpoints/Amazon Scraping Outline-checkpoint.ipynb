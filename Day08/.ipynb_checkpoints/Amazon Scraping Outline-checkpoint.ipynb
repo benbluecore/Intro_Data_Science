{
 "cells": [
  {
   "cell_type": "code",
   "execution_count": 1,
   "metadata": {},
   "outputs": [],
   "source": [
    "from bs4 import BeautifulSoup\n",
    "import requests"
   ]
  },
  {
   "cell_type": "code",
   "execution_count": 2,
   "metadata": {},
   "outputs": [],
   "source": [
    "url = 'https://www.amazon.com/Simple-Mobile-Prepaid-Smartphone-Unlimited/dp/B071YS8XMD/ref=sr_1_1_sspa?ie=UTF8&qid=1531788260&sr=8-1-spons&keywords=phones&psc=1'\n",
    "response = requests.get(url)"
   ]
  },
  {
   "cell_type": "code",
   "execution_count": 9,
   "metadata": {},
   "outputs": [],
   "source": [
    "soup = BeautifulSoup(response.content, 'html.parser')"
   ]
  },
  {
   "cell_type": "code",
   "execution_count": 10,
   "metadata": {},
   "outputs": [
    {
     "data": {
      "text/plain": [
       "'<!DOCTYPE doctype html>\\n<html class=\"a-no-js\" data-19ax5a9jf=\"dingo\">\\n <!-- sp:feature:head-start -->\\n <head>\\n  <script>\\n   var aPageStart = (new Date()).getTime();\\n  </script>\\n  <meta charset=\"utf-8\"/>\\n  <!-- sp:feature:cs-optimization -->\\n  <meta content=\"on\" http-equiv=\"x-dns-prefetch-control\"/>\\n  <link href=\"//images-na.ssl-images-amazon.com\" rel=\"dns-prefetch\"/>\\n  <link href=\"//m.media-amazon.com\" rel=\"dns-prefetch\"/>\\n  <link href=\"//completion.amazon.com\" rel=\"dns-prefetch\"/>\\n  <!-- sp:feature:aui-assets -->\\n  <link href=\"https://images-na.ssl-images-amazon.com/images/I/61hpgixl7UL._RC|01evdoiemkL.css,01K+Ps1DeEL.css,31Dj+6BjA7L.css,11PuQQlCaSL.css,11UGC+GXOPL.css,21LK7jaicML.css,11L58Qpo0GL.css,21EuGTxgpoL.css,01Xl9KigtzL.css,21GwE3cR-yL.css,019SHZnt8RL.css,01KHSUOoAjL.css,11vZhCgAHbL.css,21Mne54CsmL.css,11WgRxUdJRL.css,01dU8+SPlFL.css,11DGn6WmpTL.css,01SHjPML6tL.css,111-D2qRjiL.css,01QrWuRrZ-L.css,31WnKks7R1L.css,114KWZGKCVL.css,01cbS3UK11L.css,21zId9c5Z5L.css,01cNnXK5MbL.css,1'"
      ]
     },
     "execution_count": 10,
     "metadata": {},
     "output_type": "execute_result"
    }
   ],
   "source": [
    "soup.prettify()[:1000]"
   ]
  },
  {
   "cell_type": "code",
   "execution_count": 12,
   "metadata": {},
   "outputs": [
    {
     "name": "stdout",
     "output_type": "stream",
     "text": [
      "366 <a id=\"nav-top\"></a>\n"
     ]
    }
   ],
   "source": [
    "links = soup.findAll('a')\n",
    "print(len(links), links[0])"
   ]
  },
  {
   "cell_type": "code",
   "execution_count": 13,
   "metadata": {},
   "outputs": [
    {
     "data": {
      "text/plain": [
       "[None,\n",
       " 'http://www.amazon.com/stream',\n",
       " '/',\n",
       " '/gp/prime',\n",
       " '/Back-to-School-Supplies/b?ie=UTF8&node=1065840']"
      ]
     },
     "execution_count": 13,
     "metadata": {},
     "output_type": "execute_result"
    }
   ],
   "source": [
    "[link.get('href') for link in links[:5]]"
   ]
  },
  {
   "cell_type": "code",
   "execution_count": null,
   "metadata": {},
   "outputs": [],
   "source": [
    "<span id=\"acrCustomerReviewText\" class=\"a-size-base\">16 customer reviews</span>"
   ]
  },
  {
   "cell_type": "code",
   "execution_count": 14,
   "metadata": {},
   "outputs": [
    {
     "data": {
      "text/plain": [
       "[<span class=\"a-size-base\" id=\"acrCustomerReviewText\">16 customer reviews</span>,\n",
       " <span class=\"a-size-base\" id=\"acrCustomerReviewText\">16 customer reviews</span>]"
      ]
     },
     "execution_count": 14,
     "metadata": {},
     "output_type": "execute_result"
    }
   ],
   "source": [
    "soup.findAll('span', id=\"acrCustomerReviewText\")"
   ]
  },
  {
   "cell_type": "code",
   "execution_count": 15,
   "metadata": {},
   "outputs": [
    {
     "data": {
      "text/plain": [
       "'16 customer reviews'"
      ]
     },
     "execution_count": 15,
     "metadata": {},
     "output_type": "execute_result"
    }
   ],
   "source": [
    "soup.findAll('span', id=\"acrCustomerReviewText\")[0].text"
   ]
  },
  {
   "cell_type": "code",
   "execution_count": null,
   "metadata": {},
   "outputs": [],
   "source": [
    "#Alpha Testing/Refinement: Pull relevant items from product pages, preview results\n",
    "n_reviews = soup.findAll('span', id=\"acrCustomerReviewText\")\n",
    "\n",
    "# product_name = soup.findall()"
   ]
  },
  {
   "cell_type": "code",
   "execution_count": null,
   "metadata": {},
   "outputs": [],
   "source": [
    "#Formalize your refinded data selections from above.\n",
    "def pull_product_details(url, df):\n",
    "    response\n",
    "    soup\n",
    "    n_reviews\n",
    "    df.set_value(column, row, n_reviews)"
   ]
  },
  {
   "cell_type": "code",
   "execution_count": null,
   "metadata": {},
   "outputs": [],
   "source": [
    "#Deploy product page scraper across multiple products\n",
    "for link in links:\n",
    "    pull_product_details(url=link)"
   ]
  }
 ],
 "metadata": {
  "kernelspec": {
   "display_name": "Python 3",
   "language": "python",
   "name": "python3"
  },
  "language_info": {
   "codemirror_mode": {
    "name": "ipython",
    "version": 3
   },
   "file_extension": ".py",
   "mimetype": "text/x-python",
   "name": "python",
   "nbconvert_exporter": "python",
   "pygments_lexer": "ipython3",
   "version": "3.6.5"
  }
 },
 "nbformat": 4,
 "nbformat_minor": 2
}
