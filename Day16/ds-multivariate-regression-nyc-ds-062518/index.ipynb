{
 "cells": [
  {
   "cell_type": "markdown",
   "metadata": {},
   "source": [
    "# Here's some data!"
   ]
  },
  {
   "cell_type": "code",
   "execution_count": 1,
   "metadata": {},
   "outputs": [],
   "source": [
    "import pandas as pd"
   ]
  },
  {
   "cell_type": "markdown",
   "metadata": {},
   "source": [
    "### 1. Import the data. It's stored in a file called 'movie_data_detailed.xlsx'."
   ]
  },
  {
   "cell_type": "code",
   "execution_count": 2,
   "metadata": {},
   "outputs": [
    {
     "name": "stdout",
     "output_type": "stream",
     "text": [
      "README.md                 index.ipynb               movie_data_detailed.xlsx\r\n"
     ]
    }
   ],
   "source": [
    "ls"
   ]
  },
  {
   "cell_type": "code",
   "execution_count": 21,
   "metadata": {},
   "outputs": [
    {
     "name": "stdout",
     "output_type": "stream",
     "text": [
      "30\n"
     ]
    },
    {
     "data": {
      "text/html": [
       "<div>\n",
       "<style scoped>\n",
       "    .dataframe tbody tr th:only-of-type {\n",
       "        vertical-align: middle;\n",
       "    }\n",
       "\n",
       "    .dataframe tbody tr th {\n",
       "        vertical-align: top;\n",
       "    }\n",
       "\n",
       "    .dataframe thead th {\n",
       "        text-align: right;\n",
       "    }\n",
       "</style>\n",
       "<table border=\"1\" class=\"dataframe\">\n",
       "  <thead>\n",
       "    <tr style=\"text-align: right;\">\n",
       "      <th></th>\n",
       "      <th>budget</th>\n",
       "      <th>domgross</th>\n",
       "      <th>title</th>\n",
       "      <th>Response_Json</th>\n",
       "      <th>Year</th>\n",
       "      <th>imdbRating</th>\n",
       "      <th>Metascore</th>\n",
       "      <th>imdbVotes</th>\n",
       "    </tr>\n",
       "  </thead>\n",
       "  <tbody>\n",
       "    <tr>\n",
       "      <th>0</th>\n",
       "      <td>13000000</td>\n",
       "      <td>25682380</td>\n",
       "      <td>21 &amp;amp; Over</td>\n",
       "      <td>NaN</td>\n",
       "      <td>2008.0</td>\n",
       "      <td>6.8</td>\n",
       "      <td>48.0</td>\n",
       "      <td>206513.0</td>\n",
       "    </tr>\n",
       "    <tr>\n",
       "      <th>1</th>\n",
       "      <td>45658735</td>\n",
       "      <td>13414714</td>\n",
       "      <td>Dredd 3D</td>\n",
       "      <td>NaN</td>\n",
       "      <td>2012.0</td>\n",
       "      <td>NaN</td>\n",
       "      <td>NaN</td>\n",
       "      <td>NaN</td>\n",
       "    </tr>\n",
       "    <tr>\n",
       "      <th>2</th>\n",
       "      <td>20000000</td>\n",
       "      <td>53107035</td>\n",
       "      <td>12 Years a Slave</td>\n",
       "      <td>NaN</td>\n",
       "      <td>2013.0</td>\n",
       "      <td>8.1</td>\n",
       "      <td>96.0</td>\n",
       "      <td>537525.0</td>\n",
       "    </tr>\n",
       "    <tr>\n",
       "      <th>3</th>\n",
       "      <td>61000000</td>\n",
       "      <td>75612460</td>\n",
       "      <td>2 Guns</td>\n",
       "      <td>NaN</td>\n",
       "      <td>2013.0</td>\n",
       "      <td>6.7</td>\n",
       "      <td>55.0</td>\n",
       "      <td>173726.0</td>\n",
       "    </tr>\n",
       "    <tr>\n",
       "      <th>4</th>\n",
       "      <td>40000000</td>\n",
       "      <td>95020213</td>\n",
       "      <td>42</td>\n",
       "      <td>NaN</td>\n",
       "      <td>2013.0</td>\n",
       "      <td>7.5</td>\n",
       "      <td>62.0</td>\n",
       "      <td>74170.0</td>\n",
       "    </tr>\n",
       "  </tbody>\n",
       "</table>\n",
       "</div>"
      ],
      "text/plain": [
       "     budget  domgross             title  Response_Json    Year  imdbRating  \\\n",
       "0  13000000  25682380     21 &amp; Over            NaN  2008.0         6.8   \n",
       "1  45658735  13414714          Dredd 3D            NaN  2012.0         NaN   \n",
       "2  20000000  53107035  12 Years a Slave            NaN  2013.0         8.1   \n",
       "3  61000000  75612460            2 Guns            NaN  2013.0         6.7   \n",
       "4  40000000  95020213                42            NaN  2013.0         7.5   \n",
       "\n",
       "   Metascore  imdbVotes  \n",
       "0       48.0   206513.0  \n",
       "1        NaN        NaN  \n",
       "2       96.0   537525.0  \n",
       "3       55.0   173726.0  \n",
       "4       62.0    74170.0  "
      ]
     },
     "execution_count": 21,
     "metadata": {},
     "output_type": "execute_result"
    }
   ],
   "source": [
    "df = pd.read_excel('movie_data_detailed.xlsx')\n",
    "print(len(df))\n",
    "df.head()"
   ]
  },
  {
   "cell_type": "markdown",
   "metadata": {},
   "source": [
    "### 2. Fill all with the column mean.\n",
    "Old: Fill all the null values with zero."
   ]
  },
  {
   "cell_type": "code",
   "execution_count": 23,
   "metadata": {},
   "outputs": [
    {
     "data": {
      "text/html": [
       "<div>\n",
       "<style scoped>\n",
       "    .dataframe tbody tr th:only-of-type {\n",
       "        vertical-align: middle;\n",
       "    }\n",
       "\n",
       "    .dataframe tbody tr th {\n",
       "        vertical-align: top;\n",
       "    }\n",
       "\n",
       "    .dataframe thead th {\n",
       "        text-align: right;\n",
       "    }\n",
       "</style>\n",
       "<table border=\"1\" class=\"dataframe\">\n",
       "  <thead>\n",
       "    <tr style=\"text-align: right;\">\n",
       "      <th></th>\n",
       "      <th>budget</th>\n",
       "      <th>domgross</th>\n",
       "      <th>title</th>\n",
       "      <th>Response_Json</th>\n",
       "      <th>Year</th>\n",
       "      <th>imdbRating</th>\n",
       "      <th>Metascore</th>\n",
       "      <th>imdbVotes</th>\n",
       "    </tr>\n",
       "  </thead>\n",
       "  <tbody>\n",
       "    <tr>\n",
       "      <th>0</th>\n",
       "      <td>13000000</td>\n",
       "      <td>25682380</td>\n",
       "      <td>21 &amp;amp; Over</td>\n",
       "      <td>NaN</td>\n",
       "      <td>2008.0</td>\n",
       "      <td>6.800000</td>\n",
       "      <td>48.0</td>\n",
       "      <td>206513.000000</td>\n",
       "    </tr>\n",
       "    <tr>\n",
       "      <th>1</th>\n",
       "      <td>45658735</td>\n",
       "      <td>13414714</td>\n",
       "      <td>Dredd 3D</td>\n",
       "      <td>NaN</td>\n",
       "      <td>2012.0</td>\n",
       "      <td>6.748148</td>\n",
       "      <td>57.5</td>\n",
       "      <td>201890.923077</td>\n",
       "    </tr>\n",
       "    <tr>\n",
       "      <th>2</th>\n",
       "      <td>20000000</td>\n",
       "      <td>53107035</td>\n",
       "      <td>12 Years a Slave</td>\n",
       "      <td>NaN</td>\n",
       "      <td>2013.0</td>\n",
       "      <td>8.100000</td>\n",
       "      <td>96.0</td>\n",
       "      <td>537525.000000</td>\n",
       "    </tr>\n",
       "    <tr>\n",
       "      <th>3</th>\n",
       "      <td>61000000</td>\n",
       "      <td>75612460</td>\n",
       "      <td>2 Guns</td>\n",
       "      <td>NaN</td>\n",
       "      <td>2013.0</td>\n",
       "      <td>6.700000</td>\n",
       "      <td>55.0</td>\n",
       "      <td>173726.000000</td>\n",
       "    </tr>\n",
       "    <tr>\n",
       "      <th>4</th>\n",
       "      <td>40000000</td>\n",
       "      <td>95020213</td>\n",
       "      <td>42</td>\n",
       "      <td>NaN</td>\n",
       "      <td>2013.0</td>\n",
       "      <td>7.500000</td>\n",
       "      <td>62.0</td>\n",
       "      <td>74170.000000</td>\n",
       "    </tr>\n",
       "  </tbody>\n",
       "</table>\n",
       "</div>"
      ],
      "text/plain": [
       "     budget  domgross             title  Response_Json    Year  imdbRating  \\\n",
       "0  13000000  25682380     21 &amp; Over            NaN  2008.0    6.800000   \n",
       "1  45658735  13414714          Dredd 3D            NaN  2012.0    6.748148   \n",
       "2  20000000  53107035  12 Years a Slave            NaN  2013.0    8.100000   \n",
       "3  61000000  75612460            2 Guns            NaN  2013.0    6.700000   \n",
       "4  40000000  95020213                42            NaN  2013.0    7.500000   \n",
       "\n",
       "   Metascore      imdbVotes  \n",
       "0       48.0  206513.000000  \n",
       "1       57.5  201890.923077  \n",
       "2       96.0  537525.000000  \n",
       "3       55.0  173726.000000  \n",
       "4       62.0   74170.000000  "
      ]
     },
     "execution_count": 23,
     "metadata": {},
     "output_type": "execute_result"
    }
   ],
   "source": [
    "for col in df.columns:\n",
    "    try:\n",
    "        mean = df[col].mean()\n",
    "        df[col] = df[col].fillna(value=mean)\n",
    "    except:\n",
    "        #Col is text\n",
    "        pass\n",
    "df.head()"
   ]
  },
  {
   "cell_type": "markdown",
   "metadata": {},
   "source": [
    "### 3. Normalize the data so that all features have a minimum of zero and a maximum of one.\n",
    "\n",
    "* Subtract minimum\n",
    "* Divide range\n",
    "\n",
    "Thought experiment:\n",
    "\n",
    "(miminum - minimum)  / range \n",
    "\n",
    "0 / range = 0\n",
    "\n",
    "Remember range = max - min\n",
    "\n",
    "(maximum - minimum) / range\n",
    "(maximum - minimum) / (maximum - minimum) = 1 "
   ]
  },
  {
   "cell_type": "code",
   "execution_count": 8,
   "metadata": {},
   "outputs": [
    {
     "name": "stdout",
     "output_type": "stream",
     "text": [
      "5500000 225000000\n"
     ]
    }
   ],
   "source": [
    "print(df.budget.min(), df.budget.max())"
   ]
  },
  {
   "cell_type": "code",
   "execution_count": 12,
   "metadata": {},
   "outputs": [],
   "source": [
    "#Apply is to the entire column\n",
    "def normalize_func(value):\n",
    "    output = (value - minimum) / range_\n",
    "    return output\n",
    "# df[col_name] = df[col_name].apply(normalize_func)\n",
    "minimum = df['budget'].min()\n",
    "maximum = df['budget'].max()\n",
    "range_ = maximum - minimum\n",
    "df['budget'] = df['budget'].map(normalize_func)"
   ]
  },
  {
   "cell_type": "code",
   "execution_count": 13,
   "metadata": {},
   "outputs": [
    {
     "name": "stdout",
     "output_type": "stream",
     "text": [
      "0.0 1.0\n"
     ]
    }
   ],
   "source": [
    "print(df.budget.min(), df.budget.max())"
   ]
  },
  {
   "cell_type": "code",
   "execution_count": 15,
   "metadata": {},
   "outputs": [
    {
     "name": "stdout",
     "output_type": "stream",
     "text": [
      "<class 'pandas.core.frame.DataFrame'>\n",
      "RangeIndex: 30 entries, 0 to 29\n",
      "Data columns (total 8 columns):\n",
      "budget           30 non-null float64\n",
      "domgross         30 non-null float64\n",
      "title            30 non-null object\n",
      "Response_Json    30 non-null float64\n",
      "Year             30 non-null float64\n",
      "imdbRating       30 non-null float64\n",
      "Metascore        30 non-null float64\n",
      "imdbVotes        30 non-null float64\n",
      "dtypes: float64(7), object(1)\n",
      "memory usage: 2.0+ KB\n"
     ]
    }
   ],
   "source": [
    "df.info()"
   ]
  },
  {
   "cell_type": "code",
   "execution_count": 24,
   "metadata": {},
   "outputs": [
    {
     "name": "stdout",
     "output_type": "stream",
     "text": [
      "budget, Minimum: 5500000, Maximum: 225000000\n",
      "budget, Minimum: 0.0, Maximum: 1.0\n",
      "\n",
      "\n",
      "domgross, Minimum: 4167493, Maximum: 393050114\n",
      "domgross, Minimum: 0.0, Maximum: 1.0\n",
      "\n",
      "\n",
      "title, Minimum: 12 Years a Slave, Maximum: Gloria\n",
      "Column title is probably not numeric.\n",
      "Response_Json, Minimum: nan, Maximum: nan\n",
      "Response_Json, Minimum: nan, Maximum: nan\n",
      "\n",
      "\n",
      "Year, Minimum: 1976.0, Maximum: 2013.0\n",
      "Year, Minimum: 0.0, Maximum: 1.0\n",
      "\n",
      "\n",
      "imdbRating, Minimum: 4.9, Maximum: 8.1\n",
      "imdbRating, Minimum: 0.0, Maximum: 1.0\n",
      "\n",
      "\n",
      "Metascore, Minimum: 28.0, Maximum: 96.0\n",
      "Metascore, Minimum: 0.0, Maximum: 1.0\n",
      "\n",
      "\n",
      "imdbVotes, Minimum: 22430.0, Maximum: 537525.0\n",
      "imdbVotes, Minimum: 0.0, Maximum: 1.0\n",
      "\n",
      "\n"
     ]
    }
   ],
   "source": [
    "for col in df.columns:\n",
    "    try:\n",
    "        minimum = df[col].min()\n",
    "        maximum = df[col].max()\n",
    "        print('{}, Minimum: {}, Maximum: {}'.format(col, minimum, maximum))\n",
    "        range_ = maximum - minimum\n",
    "        df[col] = df[col].map(normalize_func)\n",
    "        print('{}, Minimum: {}, Maximum: {}'.format(col, df[col].min(), df[col].max()))\n",
    "        print('\\n')\n",
    "    except:\n",
    "        print('Column {} is probably not numeric.'.format(col))"
   ]
  },
  {
   "cell_type": "code",
   "execution_count": 22,
   "metadata": {},
   "outputs": [],
   "source": [
    "#Map applies value by value\n",
    "def normalize_func(values, min, max):\n",
    "    return output\n",
    "df[col_name] = df[col_name].map(normalize_func)"
   ]
  },
  {
   "cell_type": "code",
   "execution_count": 5,
   "metadata": {},
   "outputs": [
    {
     "data": {
      "text/plain": [
       "[1, 2, 3, 1, 2, 3, 1, 2, 3, 1, 2, 3, 1, 2, 3]"
      ]
     },
     "execution_count": 5,
     "metadata": {},
     "output_type": "execute_result"
    }
   ],
   "source": [
    "[1,2,3]*5"
   ]
  },
  {
   "cell_type": "code",
   "execution_count": 6,
   "metadata": {},
   "outputs": [],
   "source": [
    "import numpy as np"
   ]
  },
  {
   "cell_type": "code",
   "execution_count": 7,
   "metadata": {},
   "outputs": [
    {
     "data": {
      "text/plain": [
       "array([ 5, 10, 15])"
      ]
     },
     "execution_count": 7,
     "metadata": {},
     "output_type": "execute_result"
    }
   ],
   "source": [
    "np.array([1,2,3])*5"
   ]
  },
  {
   "cell_type": "code",
   "execution_count": 25,
   "metadata": {},
   "outputs": [
    {
     "data": {
      "text/html": [
       "<div>\n",
       "<style scoped>\n",
       "    .dataframe tbody tr th:only-of-type {\n",
       "        vertical-align: middle;\n",
       "    }\n",
       "\n",
       "    .dataframe tbody tr th {\n",
       "        vertical-align: top;\n",
       "    }\n",
       "\n",
       "    .dataframe thead th {\n",
       "        text-align: right;\n",
       "    }\n",
       "</style>\n",
       "<table border=\"1\" class=\"dataframe\">\n",
       "  <thead>\n",
       "    <tr style=\"text-align: right;\">\n",
       "      <th></th>\n",
       "      <th>budget</th>\n",
       "      <th>domgross</th>\n",
       "      <th>title</th>\n",
       "      <th>Response_Json</th>\n",
       "      <th>Year</th>\n",
       "      <th>imdbRating</th>\n",
       "      <th>Metascore</th>\n",
       "      <th>imdbVotes</th>\n",
       "    </tr>\n",
       "  </thead>\n",
       "  <tbody>\n",
       "    <tr>\n",
       "      <th>0</th>\n",
       "      <td>0.034169</td>\n",
       "      <td>0.055325</td>\n",
       "      <td>21 &amp;amp; Over</td>\n",
       "      <td>NaN</td>\n",
       "      <td>0.864865</td>\n",
       "      <td>0.593750</td>\n",
       "      <td>0.294118</td>\n",
       "      <td>0.357377</td>\n",
       "    </tr>\n",
       "    <tr>\n",
       "      <th>1</th>\n",
       "      <td>0.182956</td>\n",
       "      <td>0.023779</td>\n",
       "      <td>Dredd 3D</td>\n",
       "      <td>NaN</td>\n",
       "      <td>0.972973</td>\n",
       "      <td>0.577546</td>\n",
       "      <td>0.433824</td>\n",
       "      <td>0.348404</td>\n",
       "    </tr>\n",
       "    <tr>\n",
       "      <th>2</th>\n",
       "      <td>0.066059</td>\n",
       "      <td>0.125847</td>\n",
       "      <td>12 Years a Slave</td>\n",
       "      <td>NaN</td>\n",
       "      <td>1.000000</td>\n",
       "      <td>1.000000</td>\n",
       "      <td>1.000000</td>\n",
       "      <td>1.000000</td>\n",
       "    </tr>\n",
       "    <tr>\n",
       "      <th>3</th>\n",
       "      <td>0.252847</td>\n",
       "      <td>0.183719</td>\n",
       "      <td>2 Guns</td>\n",
       "      <td>NaN</td>\n",
       "      <td>1.000000</td>\n",
       "      <td>0.562500</td>\n",
       "      <td>0.397059</td>\n",
       "      <td>0.293724</td>\n",
       "    </tr>\n",
       "    <tr>\n",
       "      <th>4</th>\n",
       "      <td>0.157175</td>\n",
       "      <td>0.233625</td>\n",
       "      <td>42</td>\n",
       "      <td>NaN</td>\n",
       "      <td>1.000000</td>\n",
       "      <td>0.812500</td>\n",
       "      <td>0.500000</td>\n",
       "      <td>0.100447</td>\n",
       "    </tr>\n",
       "  </tbody>\n",
       "</table>\n",
       "</div>"
      ],
      "text/plain": [
       "     budget  domgross             title  Response_Json      Year  imdbRating  \\\n",
       "0  0.034169  0.055325     21 &amp; Over            NaN  0.864865    0.593750   \n",
       "1  0.182956  0.023779          Dredd 3D            NaN  0.972973    0.577546   \n",
       "2  0.066059  0.125847  12 Years a Slave            NaN  1.000000    1.000000   \n",
       "3  0.252847  0.183719            2 Guns            NaN  1.000000    0.562500   \n",
       "4  0.157175  0.233625                42            NaN  1.000000    0.812500   \n",
       "\n",
       "   Metascore  imdbVotes  \n",
       "0   0.294118   0.357377  \n",
       "1   0.433824   0.348404  \n",
       "2   1.000000   1.000000  \n",
       "3   0.397059   0.293724  \n",
       "4   0.500000   0.100447  "
      ]
     },
     "execution_count": 25,
     "metadata": {},
     "output_type": "execute_result"
    }
   ],
   "source": [
    "df.head()"
   ]
  },
  {
   "cell_type": "markdown",
   "metadata": {},
   "source": [
    "### 4. Define 4 variables: X_train, Y_train, X_test, Y_test using a 80-20 split for train and test data. X should be a matrix of data features predicting y, Domestic Gross Sales.  Use random_state=42 for consistency."
   ]
  },
  {
   "cell_type": "code",
   "execution_count": 31,
   "metadata": {},
   "outputs": [],
   "source": [
    "from sklearn.model_selection import train_test_split"
   ]
  },
  {
   "cell_type": "code",
   "execution_count": 62,
   "metadata": {},
   "outputs": [],
   "source": [
    "X = df[['budget', 'Year', 'imdbRating', 'Metascore', 'imdbVotes']]\n",
    "# X = df.drop('domgross')\n",
    "y = df['domgross']"
   ]
  },
  {
   "cell_type": "code",
   "execution_count": 63,
   "metadata": {},
   "outputs": [],
   "source": [
    "X_train, X_test, y_train, y_test = train_test_split(X, y, test_size=0.2, random_state=42)"
   ]
  },
  {
   "cell_type": "markdown",
   "metadata": {},
   "source": [
    "### 5. Import import sklearn.linear_model.LinearRegression\n",
    "Create an instance of the LinearRegression class.\n",
    "Then use the fit method to train a model according to the data."
   ]
  },
  {
   "cell_type": "code",
   "execution_count": 34,
   "metadata": {},
   "outputs": [],
   "source": [
    "import sklearn.linear_model as linreg"
   ]
  },
  {
   "cell_type": "code",
   "execution_count": 64,
   "metadata": {},
   "outputs": [],
   "source": [
    "#Create Instance of LinearRegression (Ordinary Least Squares Regressor)\n",
    "model = linreg.LinearRegression()"
   ]
  },
  {
   "cell_type": "code",
   "execution_count": 65,
   "metadata": {},
   "outputs": [
    {
     "data": {
      "text/plain": [
       "LinearRegression(copy_X=True, fit_intercept=True, n_jobs=1, normalize=False)"
      ]
     },
     "execution_count": 65,
     "metadata": {},
     "output_type": "execute_result"
    }
   ],
   "source": [
    "#Fit the model to the train set\n",
    "model.fit(X_train, y_train)"
   ]
  },
  {
   "cell_type": "code",
   "execution_count": 66,
   "metadata": {},
   "outputs": [
    {
     "data": {
      "text/html": [
       "<div>\n",
       "<style scoped>\n",
       "    .dataframe tbody tr th:only-of-type {\n",
       "        vertical-align: middle;\n",
       "    }\n",
       "\n",
       "    .dataframe tbody tr th {\n",
       "        vertical-align: top;\n",
       "    }\n",
       "\n",
       "    .dataframe thead th {\n",
       "        text-align: right;\n",
       "    }\n",
       "</style>\n",
       "<table border=\"1\" class=\"dataframe\">\n",
       "  <thead>\n",
       "    <tr style=\"text-align: right;\">\n",
       "      <th></th>\n",
       "      <th>budget</th>\n",
       "      <th>domgross</th>\n",
       "      <th>title</th>\n",
       "      <th>Response_Json</th>\n",
       "      <th>Year</th>\n",
       "      <th>imdbRating</th>\n",
       "      <th>Metascore</th>\n",
       "      <th>imdbVotes</th>\n",
       "      <th>Predicted Value</th>\n",
       "      <th>Residual</th>\n",
       "      <th>PercentError</th>\n",
       "      <th>Squarred Residual</th>\n",
       "    </tr>\n",
       "  </thead>\n",
       "  <tbody>\n",
       "    <tr>\n",
       "      <th>0</th>\n",
       "      <td>0.034169</td>\n",
       "      <td>0.055325</td>\n",
       "      <td>21 &amp;amp; Over</td>\n",
       "      <td>NaN</td>\n",
       "      <td>0.864865</td>\n",
       "      <td>0.593750</td>\n",
       "      <td>0.294118</td>\n",
       "      <td>0.357377</td>\n",
       "      <td>-0.004443</td>\n",
       "      <td>-0.059768</td>\n",
       "      <td>-1.080302</td>\n",
       "      <td>0.003572</td>\n",
       "    </tr>\n",
       "    <tr>\n",
       "      <th>1</th>\n",
       "      <td>0.182956</td>\n",
       "      <td>0.023779</td>\n",
       "      <td>Dredd 3D</td>\n",
       "      <td>NaN</td>\n",
       "      <td>0.972973</td>\n",
       "      <td>0.577546</td>\n",
       "      <td>0.433824</td>\n",
       "      <td>0.348404</td>\n",
       "      <td>0.142802</td>\n",
       "      <td>0.119023</td>\n",
       "      <td>5.005394</td>\n",
       "      <td>0.014166</td>\n",
       "    </tr>\n",
       "    <tr>\n",
       "      <th>2</th>\n",
       "      <td>0.066059</td>\n",
       "      <td>0.125847</td>\n",
       "      <td>12 Years a Slave</td>\n",
       "      <td>NaN</td>\n",
       "      <td>1.000000</td>\n",
       "      <td>1.000000</td>\n",
       "      <td>1.000000</td>\n",
       "      <td>1.000000</td>\n",
       "      <td>0.338656</td>\n",
       "      <td>0.212810</td>\n",
       "      <td>1.691024</td>\n",
       "      <td>0.045288</td>\n",
       "    </tr>\n",
       "    <tr>\n",
       "      <th>3</th>\n",
       "      <td>0.252847</td>\n",
       "      <td>0.183719</td>\n",
       "      <td>2 Guns</td>\n",
       "      <td>NaN</td>\n",
       "      <td>1.000000</td>\n",
       "      <td>0.562500</td>\n",
       "      <td>0.397059</td>\n",
       "      <td>0.293724</td>\n",
       "      <td>0.165040</td>\n",
       "      <td>-0.018678</td>\n",
       "      <td>-0.101667</td>\n",
       "      <td>0.000349</td>\n",
       "    </tr>\n",
       "    <tr>\n",
       "      <th>4</th>\n",
       "      <td>0.157175</td>\n",
       "      <td>0.233625</td>\n",
       "      <td>42</td>\n",
       "      <td>NaN</td>\n",
       "      <td>1.000000</td>\n",
       "      <td>0.812500</td>\n",
       "      <td>0.500000</td>\n",
       "      <td>0.100447</td>\n",
       "      <td>0.122738</td>\n",
       "      <td>-0.110887</td>\n",
       "      <td>-0.474637</td>\n",
       "      <td>0.012296</td>\n",
       "    </tr>\n",
       "  </tbody>\n",
       "</table>\n",
       "</div>"
      ],
      "text/plain": [
       "     budget  domgross             title  Response_Json      Year  imdbRating  \\\n",
       "0  0.034169  0.055325     21 &amp; Over            NaN  0.864865    0.593750   \n",
       "1  0.182956  0.023779          Dredd 3D            NaN  0.972973    0.577546   \n",
       "2  0.066059  0.125847  12 Years a Slave            NaN  1.000000    1.000000   \n",
       "3  0.252847  0.183719            2 Guns            NaN  1.000000    0.562500   \n",
       "4  0.157175  0.233625                42            NaN  1.000000    0.812500   \n",
       "\n",
       "   Metascore  imdbVotes  Predicted Value  Residual  PercentError  \\\n",
       "0   0.294118   0.357377        -0.004443 -0.059768     -1.080302   \n",
       "1   0.433824   0.348404         0.142802  0.119023      5.005394   \n",
       "2   1.000000   1.000000         0.338656  0.212810      1.691024   \n",
       "3   0.397059   0.293724         0.165040 -0.018678     -0.101667   \n",
       "4   0.500000   0.100447         0.122738 -0.110887     -0.474637   \n",
       "\n",
       "   Squarred Residual  \n",
       "0           0.003572  \n",
       "1           0.014166  \n",
       "2           0.045288  \n",
       "3           0.000349  \n",
       "4           0.012296  "
      ]
     },
     "execution_count": 66,
     "metadata": {},
     "output_type": "execute_result"
    }
   ],
   "source": [
    "df['Predicted Value'] = model.predict(X)\n",
    "df.head()"
   ]
  },
  {
   "cell_type": "code",
   "execution_count": 39,
   "metadata": {},
   "outputs": [],
   "source": [
    "y_hat_train = model.predict(X_train)\n",
    "y_hat_test = model.predict(X_test)"
   ]
  },
  {
   "cell_type": "markdown",
   "metadata": {},
   "source": [
    "### 6. Scatter Plot <a id=\"scatter\"></a>  \n",
    "Create a Scatter Plot of the budget and  Domestic Gross (domgross) along with your model's predictions."
   ]
  },
  {
   "cell_type": "code",
   "execution_count": 40,
   "metadata": {},
   "outputs": [],
   "source": [
    "%matplotlib inline\n",
    "import matplotlib.pyplot as plt"
   ]
  },
  {
   "cell_type": "code",
   "execution_count": 67,
   "metadata": {},
   "outputs": [
    {
     "data": {
      "text/plain": [
       "<matplotlib.legend.Legend at 0x1a17d5c4e0>"
      ]
     },
     "execution_count": 67,
     "metadata": {},
     "output_type": "execute_result"
    },
    {
     "data": {
      "image/png": "[encoded data removed]",
      "text/plain": [
       "<Figure size 432x288 with 1 Axes>"
      ]
     },
     "metadata": {},
     "output_type": "display_data"
    }
   ],
   "source": [
    "#Scatter Plot\n",
    "# x = np.linspace(start = 0, stop = 1, num = 1000 )\n",
    "# plt.scatter(x, x, c='red', label='Perfect Model')\n",
    "plt.plot(df.domgross, df.domgross, c='red', label='Perfect Model')\n",
    "# plt.scatter(df.domgross, df.domgross, c='red', label='Perfect Model')\n",
    "plt.scatter(df.domgross, df['Predicted Value'], label='Current Model')\n",
    "plt.xlabel('Normalized Domestic Gross')\n",
    "plt.ylabel('Predicted Normalized Domestic Gross')\n",
    "plt.legend()"
   ]
  },
  {
   "cell_type": "markdown",
   "metadata": {},
   "source": [
    "### 7. Calculate the RSS for both the train and test sets.\n",
    "Define a function called rss(y,y_hat). Call it on the train and test sets."
   ]
  },
  {
   "cell_type": "code",
   "execution_count": 49,
   "metadata": {},
   "outputs": [],
   "source": [
    "def rss(y, y_hat):\n",
    "    residuals = y_hat - y\n",
    "    squarred_err = [err**2 for err in residuals]\n",
    "    return sum(squarred_err)"
   ]
  },
  {
   "cell_type": "code",
   "execution_count": 51,
   "metadata": {},
   "outputs": [
    {
     "data": {
      "text/html": [
       "<div>\n",
       "<style scoped>\n",
       "    .dataframe tbody tr th:only-of-type {\n",
       "        vertical-align: middle;\n",
       "    }\n",
       "\n",
       "    .dataframe tbody tr th {\n",
       "        vertical-align: top;\n",
       "    }\n",
       "\n",
       "    .dataframe thead th {\n",
       "        text-align: right;\n",
       "    }\n",
       "</style>\n",
       "<table border=\"1\" class=\"dataframe\">\n",
       "  <thead>\n",
       "    <tr style=\"text-align: right;\">\n",
       "      <th></th>\n",
       "      <th>budget</th>\n",
       "      <th>domgross</th>\n",
       "      <th>title</th>\n",
       "      <th>Response_Json</th>\n",
       "      <th>Year</th>\n",
       "      <th>imdbRating</th>\n",
       "      <th>Metascore</th>\n",
       "      <th>imdbVotes</th>\n",
       "      <th>Predicted Value</th>\n",
       "    </tr>\n",
       "  </thead>\n",
       "  <tbody>\n",
       "    <tr>\n",
       "      <th>0</th>\n",
       "      <td>0.034169</td>\n",
       "      <td>0.055325</td>\n",
       "      <td>21 &amp;amp; Over</td>\n",
       "      <td>NaN</td>\n",
       "      <td>0.864865</td>\n",
       "      <td>0.593750</td>\n",
       "      <td>0.294118</td>\n",
       "      <td>0.357377</td>\n",
       "      <td>-0.004443</td>\n",
       "    </tr>\n",
       "    <tr>\n",
       "      <th>1</th>\n",
       "      <td>0.182956</td>\n",
       "      <td>0.023779</td>\n",
       "      <td>Dredd 3D</td>\n",
       "      <td>NaN</td>\n",
       "      <td>0.972973</td>\n",
       "      <td>0.577546</td>\n",
       "      <td>0.433824</td>\n",
       "      <td>0.348404</td>\n",
       "      <td>0.142802</td>\n",
       "    </tr>\n",
       "    <tr>\n",
       "      <th>2</th>\n",
       "      <td>0.066059</td>\n",
       "      <td>0.125847</td>\n",
       "      <td>12 Years a Slave</td>\n",
       "      <td>NaN</td>\n",
       "      <td>1.000000</td>\n",
       "      <td>1.000000</td>\n",
       "      <td>1.000000</td>\n",
       "      <td>1.000000</td>\n",
       "      <td>0.338656</td>\n",
       "    </tr>\n",
       "    <tr>\n",
       "      <th>3</th>\n",
       "      <td>0.252847</td>\n",
       "      <td>0.183719</td>\n",
       "      <td>2 Guns</td>\n",
       "      <td>NaN</td>\n",
       "      <td>1.000000</td>\n",
       "      <td>0.562500</td>\n",
       "      <td>0.397059</td>\n",
       "      <td>0.293724</td>\n",
       "      <td>0.165040</td>\n",
       "    </tr>\n",
       "    <tr>\n",
       "      <th>4</th>\n",
       "      <td>0.157175</td>\n",
       "      <td>0.233625</td>\n",
       "      <td>42</td>\n",
       "      <td>NaN</td>\n",
       "      <td>1.000000</td>\n",
       "      <td>0.812500</td>\n",
       "      <td>0.500000</td>\n",
       "      <td>0.100447</td>\n",
       "      <td>0.122738</td>\n",
       "    </tr>\n",
       "  </tbody>\n",
       "</table>\n",
       "</div>"
      ],
      "text/plain": [
       "     budget  domgross             title  Response_Json      Year  imdbRating  \\\n",
       "0  0.034169  0.055325     21 &amp; Over            NaN  0.864865    0.593750   \n",
       "1  0.182956  0.023779          Dredd 3D            NaN  0.972973    0.577546   \n",
       "2  0.066059  0.125847  12 Years a Slave            NaN  1.000000    1.000000   \n",
       "3  0.252847  0.183719            2 Guns            NaN  1.000000    0.562500   \n",
       "4  0.157175  0.233625                42            NaN  1.000000    0.812500   \n",
       "\n",
       "   Metascore  imdbVotes  Predicted Value  \n",
       "0   0.294118   0.357377        -0.004443  \n",
       "1   0.433824   0.348404         0.142802  \n",
       "2   1.000000   1.000000         0.338656  \n",
       "3   0.397059   0.293724         0.165040  \n",
       "4   0.500000   0.100447         0.122738  "
      ]
     },
     "execution_count": 51,
     "metadata": {},
     "output_type": "execute_result"
    }
   ],
   "source": [
    "df.head()"
   ]
  },
  {
   "cell_type": "code",
   "execution_count": 52,
   "metadata": {},
   "outputs": [
    {
     "data": {
      "text/html": [
       "<div>\n",
       "<style scoped>\n",
       "    .dataframe tbody tr th:only-of-type {\n",
       "        vertical-align: middle;\n",
       "    }\n",
       "\n",
       "    .dataframe tbody tr th {\n",
       "        vertical-align: top;\n",
       "    }\n",
       "\n",
       "    .dataframe thead th {\n",
       "        text-align: right;\n",
       "    }\n",
       "</style>\n",
       "<table border=\"1\" class=\"dataframe\">\n",
       "  <thead>\n",
       "    <tr style=\"text-align: right;\">\n",
       "      <th></th>\n",
       "      <th>budget</th>\n",
       "      <th>domgross</th>\n",
       "      <th>title</th>\n",
       "      <th>Response_Json</th>\n",
       "      <th>Year</th>\n",
       "      <th>imdbRating</th>\n",
       "      <th>Metascore</th>\n",
       "      <th>imdbVotes</th>\n",
       "      <th>Predicted Value</th>\n",
       "      <th>Residual</th>\n",
       "    </tr>\n",
       "  </thead>\n",
       "  <tbody>\n",
       "    <tr>\n",
       "      <th>0</th>\n",
       "      <td>0.034169</td>\n",
       "      <td>0.055325</td>\n",
       "      <td>21 &amp;amp; Over</td>\n",
       "      <td>NaN</td>\n",
       "      <td>0.864865</td>\n",
       "      <td>0.593750</td>\n",
       "      <td>0.294118</td>\n",
       "      <td>0.357377</td>\n",
       "      <td>-0.004443</td>\n",
       "      <td>-0.059768</td>\n",
       "    </tr>\n",
       "    <tr>\n",
       "      <th>1</th>\n",
       "      <td>0.182956</td>\n",
       "      <td>0.023779</td>\n",
       "      <td>Dredd 3D</td>\n",
       "      <td>NaN</td>\n",
       "      <td>0.972973</td>\n",
       "      <td>0.577546</td>\n",
       "      <td>0.433824</td>\n",
       "      <td>0.348404</td>\n",
       "      <td>0.142802</td>\n",
       "      <td>0.119023</td>\n",
       "    </tr>\n",
       "    <tr>\n",
       "      <th>2</th>\n",
       "      <td>0.066059</td>\n",
       "      <td>0.125847</td>\n",
       "      <td>12 Years a Slave</td>\n",
       "      <td>NaN</td>\n",
       "      <td>1.000000</td>\n",
       "      <td>1.000000</td>\n",
       "      <td>1.000000</td>\n",
       "      <td>1.000000</td>\n",
       "      <td>0.338656</td>\n",
       "      <td>0.212810</td>\n",
       "    </tr>\n",
       "    <tr>\n",
       "      <th>3</th>\n",
       "      <td>0.252847</td>\n",
       "      <td>0.183719</td>\n",
       "      <td>2 Guns</td>\n",
       "      <td>NaN</td>\n",
       "      <td>1.000000</td>\n",
       "      <td>0.562500</td>\n",
       "      <td>0.397059</td>\n",
       "      <td>0.293724</td>\n",
       "      <td>0.165040</td>\n",
       "      <td>-0.018678</td>\n",
       "    </tr>\n",
       "    <tr>\n",
       "      <th>4</th>\n",
       "      <td>0.157175</td>\n",
       "      <td>0.233625</td>\n",
       "      <td>42</td>\n",
       "      <td>NaN</td>\n",
       "      <td>1.000000</td>\n",
       "      <td>0.812500</td>\n",
       "      <td>0.500000</td>\n",
       "      <td>0.100447</td>\n",
       "      <td>0.122738</td>\n",
       "      <td>-0.110887</td>\n",
       "    </tr>\n",
       "  </tbody>\n",
       "</table>\n",
       "</div>"
      ],
      "text/plain": [
       "     budget  domgross             title  Response_Json      Year  imdbRating  \\\n",
       "0  0.034169  0.055325     21 &amp; Over            NaN  0.864865    0.593750   \n",
       "1  0.182956  0.023779          Dredd 3D            NaN  0.972973    0.577546   \n",
       "2  0.066059  0.125847  12 Years a Slave            NaN  1.000000    1.000000   \n",
       "3  0.252847  0.183719            2 Guns            NaN  1.000000    0.562500   \n",
       "4  0.157175  0.233625                42            NaN  1.000000    0.812500   \n",
       "\n",
       "   Metascore  imdbVotes  Predicted Value  Residual  \n",
       "0   0.294118   0.357377        -0.004443 -0.059768  \n",
       "1   0.433824   0.348404         0.142802  0.119023  \n",
       "2   1.000000   1.000000         0.338656  0.212810  \n",
       "3   0.397059   0.293724         0.165040 -0.018678  \n",
       "4   0.500000   0.100447         0.122738 -0.110887  "
      ]
     },
     "execution_count": 52,
     "metadata": {},
     "output_type": "execute_result"
    }
   ],
   "source": [
    "df['Residual'] = df['Predicted Value'] - df['domgross']\n",
    "df.head()"
   ]
  },
  {
   "cell_type": "code",
   "execution_count": 53,
   "metadata": {},
   "outputs": [
    {
     "data": {
      "text/html": [
       "<div>\n",
       "<style scoped>\n",
       "    .dataframe tbody tr th:only-of-type {\n",
       "        vertical-align: middle;\n",
       "    }\n",
       "\n",
       "    .dataframe tbody tr th {\n",
       "        vertical-align: top;\n",
       "    }\n",
       "\n",
       "    .dataframe thead th {\n",
       "        text-align: right;\n",
       "    }\n",
       "</style>\n",
       "<table border=\"1\" class=\"dataframe\">\n",
       "  <thead>\n",
       "    <tr style=\"text-align: right;\">\n",
       "      <th></th>\n",
       "      <th>budget</th>\n",
       "      <th>domgross</th>\n",
       "      <th>title</th>\n",
       "      <th>Response_Json</th>\n",
       "      <th>Year</th>\n",
       "      <th>imdbRating</th>\n",
       "      <th>Metascore</th>\n",
       "      <th>imdbVotes</th>\n",
       "      <th>Predicted Value</th>\n",
       "      <th>Residual</th>\n",
       "      <th>PercentError</th>\n",
       "    </tr>\n",
       "  </thead>\n",
       "  <tbody>\n",
       "    <tr>\n",
       "      <th>0</th>\n",
       "      <td>0.034169</td>\n",
       "      <td>0.055325</td>\n",
       "      <td>21 &amp;amp; Over</td>\n",
       "      <td>NaN</td>\n",
       "      <td>0.864865</td>\n",
       "      <td>0.593750</td>\n",
       "      <td>0.294118</td>\n",
       "      <td>0.357377</td>\n",
       "      <td>-0.004443</td>\n",
       "      <td>-0.059768</td>\n",
       "      <td>-1.080302</td>\n",
       "    </tr>\n",
       "    <tr>\n",
       "      <th>1</th>\n",
       "      <td>0.182956</td>\n",
       "      <td>0.023779</td>\n",
       "      <td>Dredd 3D</td>\n",
       "      <td>NaN</td>\n",
       "      <td>0.972973</td>\n",
       "      <td>0.577546</td>\n",
       "      <td>0.433824</td>\n",
       "      <td>0.348404</td>\n",
       "      <td>0.142802</td>\n",
       "      <td>0.119023</td>\n",
       "      <td>5.005394</td>\n",
       "    </tr>\n",
       "  </tbody>\n",
       "</table>\n",
       "</div>"
      ],
      "text/plain": [
       "     budget  domgross          title  Response_Json      Year  imdbRating  \\\n",
       "0  0.034169  0.055325  21 &amp; Over            NaN  0.864865    0.593750   \n",
       "1  0.182956  0.023779       Dredd 3D            NaN  0.972973    0.577546   \n",
       "\n",
       "   Metascore  imdbVotes  Predicted Value  Residual  PercentError  \n",
       "0   0.294118   0.357377        -0.004443 -0.059768     -1.080302  \n",
       "1   0.433824   0.348404         0.142802  0.119023      5.005394  "
      ]
     },
     "execution_count": 53,
     "metadata": {},
     "output_type": "execute_result"
    }
   ],
   "source": [
    "df['PercentError'] = df['Residual'] / df.domgross\n",
    "df.head(2)"
   ]
  },
  {
   "cell_type": "code",
   "execution_count": 54,
   "metadata": {},
   "outputs": [
    {
     "data": {
      "text/plain": [
       "Residual       -0.015108\n",
       "PercentError         inf\n",
       "dtype: float64"
      ]
     },
     "execution_count": 54,
     "metadata": {},
     "output_type": "execute_result"
    }
   ],
   "source": [
    "df[df.columns[-2:]].mean()"
   ]
  },
  {
   "cell_type": "code",
   "execution_count": 55,
   "metadata": {},
   "outputs": [
    {
     "data": {
      "text/plain": [
       "<matplotlib.axes._subplots.AxesSubplot at 0x1a17ad0320>"
      ]
     },
     "execution_count": 55,
     "metadata": {},
     "output_type": "execute_result"
    },
    {
     "data": {
      "image/png": "[encoded data removed]",
      "text/plain": [
       "<Figure size 432x288 with 1 Axes>"
      ]
     },
     "metadata": {},
     "output_type": "display_data"
    }
   ],
   "source": [
    "df.Residual.hist()"
   ]
  },
  {
   "cell_type": "code",
   "execution_count": 58,
   "metadata": {},
   "outputs": [
    {
     "data": {
      "text/plain": [
       "0.36"
      ]
     },
     "execution_count": 58,
     "metadata": {},
     "output_type": "execute_result"
    }
   ],
   "source": [
    "(-.6)**2"
   ]
  },
  {
   "cell_type": "code",
   "execution_count": 59,
   "metadata": {},
   "outputs": [
    {
     "data": {
      "text/plain": [
       "0.010000000000000002"
      ]
     },
     "execution_count": 59,
     "metadata": {},
     "output_type": "execute_result"
    }
   ],
   "source": [
    "(0.1)**2"
   ]
  },
  {
   "cell_type": "code",
   "execution_count": 57,
   "metadata": {},
   "outputs": [
    {
     "data": {
      "text/plain": [
       "<matplotlib.axes._subplots.AxesSubplot at 0x1a17be8f98>"
      ]
     },
     "execution_count": 57,
     "metadata": {},
     "output_type": "execute_result"
    },
    {
     "data": {
      "image/png": "[encoded data removed]",
      "text/plain": [
       "<Figure size 432x288 with 1 Axes>"
      ]
     },
     "metadata": {},
     "output_type": "display_data"
    }
   ],
   "source": [
    "df['Squarred Residual'] = df.Residual.map(lambda x: x**2)\n",
    "df['Squarred Residual'].hist()"
   ]
  },
  {
   "cell_type": "code",
   "execution_count": 56,
   "metadata": {},
   "outputs": [
    {
     "data": {
      "text/plain": [
       "<matplotlib.legend.Legend at 0x1a17b675c0>"
      ]
     },
     "execution_count": 56,
     "metadata": {},
     "output_type": "execute_result"
    },
    {
     "data": {
      "image/png": "[encoded data removed]",
      "text/plain": [
       "<Figure size 432x288 with 1 Axes>"
      ]
     },
     "metadata": {},
     "output_type": "display_data"
    }
   ],
   "source": [
    "#Scatter Plot\n",
    "# x = np.linspace(start = 0, stop = 1, num = 1000 )\n",
    "# plt.scatter(x, x, c='red', label='Perfect Model')\n",
    "plt.plot(df.domgross, df.domgross, c='red', label='Perfect Model')\n",
    "# plt.scatter(df.domgross, df.domgross, c='red', label='Perfect Model')\n",
    "plt.scatter(df.domgross, df['Predicted Value'], label='Current Model')\n",
    "plt.xlabel('Normalized Domestic Gross')\n",
    "plt.ylabel('Predicted Normalized Domestic Gross')\n",
    "plt.legend()"
   ]
  },
  {
   "cell_type": "code",
   "execution_count": null,
   "metadata": {},
   "outputs": [],
   "source": [
    "y_hat_train = model.predict(X_train)\n",
    "y_hat_test = model.predict(X_test)"
   ]
  },
  {
   "cell_type": "code",
   "execution_count": 50,
   "metadata": {},
   "outputs": [
    {
     "name": "stdout",
     "output_type": "stream",
     "text": [
      "RSS Training: 0.5412490735480007\n",
      "RSS Test: 0.4889773440484383\n"
     ]
    }
   ],
   "source": [
    "print('RSS Training: {}'.format(rss(y_train, y_hat_train)))\n",
    "print('RSS Test: {}'.format(rss(y_test, y_hat_test)))"
   ]
  },
  {
   "cell_type": "code",
   "execution_count": 60,
   "metadata": {},
   "outputs": [
    {
     "data": {
      "text/plain": [
       "24"
      ]
     },
     "execution_count": 60,
     "metadata": {},
     "output_type": "execute_result"
    }
   ],
   "source": [
    "len(y_train)"
   ]
  },
  {
   "cell_type": "code",
   "execution_count": 61,
   "metadata": {},
   "outputs": [
    {
     "data": {
      "text/plain": [
       "6"
      ]
     },
     "execution_count": 61,
     "metadata": {},
     "output_type": "execute_result"
    }
   ],
   "source": [
    "len(y_test)"
   ]
  },
  {
   "cell_type": "markdown",
   "metadata": {},
   "source": [
    "# Mean Squarred Error (MSE)"
   ]
  },
  {
   "cell_type": "code",
   "execution_count": 68,
   "metadata": {},
   "outputs": [],
   "source": [
    "def mse(y, y_hat):\n",
    "    residuals = y_hat - y\n",
    "    squarred_err = [err**2 for err in residuals]\n",
    "    return np.mean(squarred_err)"
   ]
  },
  {
   "cell_type": "code",
   "execution_count": 69,
   "metadata": {},
   "outputs": [
    {
     "name": "stdout",
     "output_type": "stream",
     "text": [
      "MSE Training: 0.0225520447311667\n",
      "MSE Test: 0.08149622400807305\n"
     ]
    }
   ],
   "source": [
    "print('MSE Training: {}'.format(mse(y_train, y_hat_train)))\n",
    "print('MSE Test: {}'.format(mse(y_test, y_hat_test)))"
   ]
  },
  {
   "cell_type": "code",
   "execution_count": null,
   "metadata": {},
   "outputs": [],
   "source": []
  }
 ],
 "metadata": {
  "kernelspec": {
   "display_name": "Python 3",
   "language": "python",
   "name": "python3"
  },
  "language_info": {
   "codemirror_mode": {
    "name": "ipython",
    "version": 3
   },
   "file_extension": ".py",
   "mimetype": "text/x-python",
   "name": "python",
   "nbconvert_exporter": "python",
   "pygments_lexer": "ipython3",
   "version": "3.6.5"
  }
 },
 "nbformat": 4,
 "nbformat_minor": 2
}
