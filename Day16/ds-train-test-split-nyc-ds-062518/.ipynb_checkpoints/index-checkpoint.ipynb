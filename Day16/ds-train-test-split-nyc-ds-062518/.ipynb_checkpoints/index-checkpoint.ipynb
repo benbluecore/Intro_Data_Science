{
 "cells": [
  {
   "cell_type": "markdown",
   "metadata": {},
   "source": [
    "# Train Test Split <a id=\"toc\"></a>\n",
    "\n",
    "Thus far we've simply been fitting models to data and calculating the error between various models and the actual data. This can lead to various problems such as overfitting where we overtune our models to these specific data points and fail to disern more generalizable patterns that will apply to future cases. \n",
    "\n",
    "Let's look at a few examples of how we could modify some of our algorithms to overfit data:\n",
    "\n",
    "### Introduction  \n",
    "\n",
    "Now that you've seen some basic linear regression models it's time to discuss further how to better tune these models. As you saw, we usually begin with an error or loss function for which we'll apply an optimization algorithm such as gradient descent. We then apply this optimization algorithm to the error function we're trying to minimize and voila, we have an optimized solution! Unfortunately, things aren't quite that simple. \n",
    "\n",
    "### Overfitting and Underfitting\n",
    "Most importantly is the issue of generalization.\n",
    "This is often examined by discussing underfitting and overfitting.\n",
    "![](./images/overfit_underfit.png)\n",
    "\n",
    "Recall our main goal when performing regression: we're attempting to find relationships that can generalize to new cases. Generally, the more data that we have the better off we'll be as we can observe more patterns and relationships within that data. However, some of these patterns and relationships may not generalize well to other cases. "
   ]
  },
  {
   "cell_type": "markdown",
   "metadata": {},
   "source": [
    "## Let's intentionally overfit some data to see this in demonstration.\n",
    "\n",
    "### 1. Import the data and define X and Y."
   ]
  },
  {
   "cell_type": "code",
   "execution_count": 1,
   "metadata": {},
   "outputs": [
    {
     "name": "stdout",
     "output_type": "stream",
     "text": [
      "README.md    \u001b[34mdata\u001b[m\u001b[m/        \u001b[34mimages\u001b[m\u001b[m/      index.ipynb\r\n"
     ]
    }
   ],
   "source": [
    "ls"
   ]
  },
  {
   "cell_type": "code",
   "execution_count": 2,
   "metadata": {},
   "outputs": [],
   "source": [
    "import pandas as pd"
   ]
  },
  {
   "cell_type": "code",
   "execution_count": 7,
   "metadata": {},
   "outputs": [
    {
     "data": {
      "text/html": [
       "<div>\n",
       "<style scoped>\n",
       "    .dataframe tbody tr th:only-of-type {\n",
       "        vertical-align: middle;\n",
       "    }\n",
       "\n",
       "    .dataframe tbody tr th {\n",
       "        vertical-align: top;\n",
       "    }\n",
       "\n",
       "    .dataframe thead th {\n",
       "        text-align: right;\n",
       "    }\n",
       "</style>\n",
       "<table border=\"1\" class=\"dataframe\">\n",
       "  <thead>\n",
       "    <tr style=\"text-align: right;\">\n",
       "      <th></th>\n",
       "      <th>budget</th>\n",
       "      <th>domgross</th>\n",
       "      <th>title</th>\n",
       "      <th>Response_Json</th>\n",
       "      <th>Year</th>\n",
       "      <th>imdbRating</th>\n",
       "      <th>Metascore</th>\n",
       "      <th>imdbVotes</th>\n",
       "    </tr>\n",
       "  </thead>\n",
       "  <tbody>\n",
       "    <tr>\n",
       "      <th>0</th>\n",
       "      <td>13000000</td>\n",
       "      <td>25682380</td>\n",
       "      <td>21 &amp;amp; Over</td>\n",
       "      <td>NaN</td>\n",
       "      <td>2008.0</td>\n",
       "      <td>6.8</td>\n",
       "      <td>48.0</td>\n",
       "      <td>206513.0</td>\n",
       "    </tr>\n",
       "    <tr>\n",
       "      <th>1</th>\n",
       "      <td>45658735</td>\n",
       "      <td>13414714</td>\n",
       "      <td>Dredd 3D</td>\n",
       "      <td>NaN</td>\n",
       "      <td>2012.0</td>\n",
       "      <td>NaN</td>\n",
       "      <td>NaN</td>\n",
       "      <td>NaN</td>\n",
       "    </tr>\n",
       "    <tr>\n",
       "      <th>2</th>\n",
       "      <td>20000000</td>\n",
       "      <td>53107035</td>\n",
       "      <td>12 Years a Slave</td>\n",
       "      <td>NaN</td>\n",
       "      <td>2013.0</td>\n",
       "      <td>8.1</td>\n",
       "      <td>96.0</td>\n",
       "      <td>537525.0</td>\n",
       "    </tr>\n",
       "    <tr>\n",
       "      <th>3</th>\n",
       "      <td>61000000</td>\n",
       "      <td>75612460</td>\n",
       "      <td>2 Guns</td>\n",
       "      <td>NaN</td>\n",
       "      <td>2013.0</td>\n",
       "      <td>6.7</td>\n",
       "      <td>55.0</td>\n",
       "      <td>173726.0</td>\n",
       "    </tr>\n",
       "    <tr>\n",
       "      <th>4</th>\n",
       "      <td>40000000</td>\n",
       "      <td>95020213</td>\n",
       "      <td>42</td>\n",
       "      <td>NaN</td>\n",
       "      <td>2013.0</td>\n",
       "      <td>7.5</td>\n",
       "      <td>62.0</td>\n",
       "      <td>74170.0</td>\n",
       "    </tr>\n",
       "  </tbody>\n",
       "</table>\n",
       "</div>"
      ],
      "text/plain": [
       "     budget  domgross             title  Response_Json    Year  imdbRating  \\\n",
       "0  13000000  25682380     21 &amp; Over            NaN  2008.0         6.8   \n",
       "1  45658735  13414714          Dredd 3D            NaN  2012.0         NaN   \n",
       "2  20000000  53107035  12 Years a Slave            NaN  2013.0         8.1   \n",
       "3  61000000  75612460            2 Guns            NaN  2013.0         6.7   \n",
       "4  40000000  95020213                42            NaN  2013.0         7.5   \n",
       "\n",
       "   Metascore  imdbVotes  \n",
       "0       48.0   206513.0  \n",
       "1        NaN        NaN  \n",
       "2       96.0   537525.0  \n",
       "3       55.0   173726.0  \n",
       "4       62.0    74170.0  "
      ]
     },
     "execution_count": 7,
     "metadata": {},
     "output_type": "execute_result"
    }
   ],
   "source": [
    "pd.read_excel('data/movie_data_detailed.xlsx').head()"
   ]
  },
  {
   "cell_type": "code",
   "execution_count": 6,
   "metadata": {},
   "outputs": [
    {
     "name": "stdout",
     "output_type": "stream",
     "text": [
      "30\n"
     ]
    },
    {
     "data": {
      "text/html": [
       "<div>\n",
       "<style scoped>\n",
       "    .dataframe tbody tr th:only-of-type {\n",
       "        vertical-align: middle;\n",
       "    }\n",
       "\n",
       "    .dataframe tbody tr th {\n",
       "        vertical-align: top;\n",
       "    }\n",
       "\n",
       "    .dataframe thead th {\n",
       "        text-align: right;\n",
       "    }\n",
       "</style>\n",
       "<table border=\"1\" class=\"dataframe\">\n",
       "  <thead>\n",
       "    <tr style=\"text-align: right;\">\n",
       "      <th></th>\n",
       "      <th>budget</th>\n",
       "      <th>domgross</th>\n",
       "      <th>title</th>\n",
       "      <th>Response_Json</th>\n",
       "      <th>Year</th>\n",
       "      <th>imdbRating</th>\n",
       "      <th>Metascore</th>\n",
       "      <th>imdbVotes</th>\n",
       "    </tr>\n",
       "  </thead>\n",
       "  <tbody>\n",
       "    <tr>\n",
       "      <th>0</th>\n",
       "      <td>13000000</td>\n",
       "      <td>25682380</td>\n",
       "      <td>21 &amp;amp; Over</td>\n",
       "      <td>NaN</td>\n",
       "      <td>2008.0</td>\n",
       "      <td>6.8</td>\n",
       "      <td>48.0</td>\n",
       "      <td>206513.0</td>\n",
       "    </tr>\n",
       "    <tr>\n",
       "      <th>1</th>\n",
       "      <td>45658735</td>\n",
       "      <td>13414714</td>\n",
       "      <td>Dredd 3D</td>\n",
       "      <td>NaN</td>\n",
       "      <td>2012.0</td>\n",
       "      <td>NaN</td>\n",
       "      <td>NaN</td>\n",
       "      <td>NaN</td>\n",
       "    </tr>\n",
       "    <tr>\n",
       "      <th>2</th>\n",
       "      <td>20000000</td>\n",
       "      <td>53107035</td>\n",
       "      <td>12 Years a Slave</td>\n",
       "      <td>NaN</td>\n",
       "      <td>2013.0</td>\n",
       "      <td>8.1</td>\n",
       "      <td>96.0</td>\n",
       "      <td>537525.0</td>\n",
       "    </tr>\n",
       "    <tr>\n",
       "      <th>3</th>\n",
       "      <td>61000000</td>\n",
       "      <td>75612460</td>\n",
       "      <td>2 Guns</td>\n",
       "      <td>NaN</td>\n",
       "      <td>2013.0</td>\n",
       "      <td>6.7</td>\n",
       "      <td>55.0</td>\n",
       "      <td>173726.0</td>\n",
       "    </tr>\n",
       "    <tr>\n",
       "      <th>4</th>\n",
       "      <td>40000000</td>\n",
       "      <td>95020213</td>\n",
       "      <td>42</td>\n",
       "      <td>NaN</td>\n",
       "      <td>2013.0</td>\n",
       "      <td>7.5</td>\n",
       "      <td>62.0</td>\n",
       "      <td>74170.0</td>\n",
       "    </tr>\n",
       "  </tbody>\n",
       "</table>\n",
       "</div>"
      ],
      "text/plain": [
       "     budget  domgross             title  Response_Json    Year  imdbRating  \\\n",
       "0  13000000  25682380     21 &amp; Over            NaN  2008.0         6.8   \n",
       "1  45658735  13414714          Dredd 3D            NaN  2012.0         NaN   \n",
       "2  20000000  53107035  12 Years a Slave            NaN  2013.0         8.1   \n",
       "3  61000000  75612460            2 Guns            NaN  2013.0         6.7   \n",
       "4  40000000  95020213                42            NaN  2013.0         7.5   \n",
       "\n",
       "   Metascore  imdbVotes  \n",
       "0       48.0   206513.0  \n",
       "1        NaN        NaN  \n",
       "2       96.0   537525.0  \n",
       "3       55.0   173726.0  \n",
       "4       62.0    74170.0  "
      ]
     },
     "execution_count": 6,
     "metadata": {},
     "output_type": "execute_result"
    }
   ],
   "source": [
    "#Import the Data here.\n",
    "path = 'data/' #The subdirectory where the file is stored\n",
    "filename = 'movie_data_detailed.xlsx' #The filename\n",
    "full_path = path + filename #Alternative shortcut\n",
    "\n",
    "df = pd.read_excel(full_path)\n",
    "print(len(df))\n",
    "df.head()"
   ]
  },
  {
   "cell_type": "code",
   "execution_count": 49,
   "metadata": {},
   "outputs": [
    {
     "data": {
      "text/plain": [
       "'/Users/matthew.mitchell/Documents/Intro_Data_Science/Intro_Data_Science_NYC_Github_Materials/c16_regression/ds-train-test-split-nyc-ds-062518'"
      ]
     },
     "execution_count": 49,
     "metadata": {},
     "output_type": "execute_result"
    }
   ],
   "source": [
    "pwd"
   ]
  },
  {
   "cell_type": "code",
   "execution_count": 4,
   "metadata": {},
   "outputs": [
    {
     "name": "stdout",
     "output_type": "stream",
     "text": [
      "/Users/matthew.mitchell\n"
     ]
    }
   ],
   "source": [
    "cd"
   ]
  },
  {
   "cell_type": "code",
   "execution_count": 5,
   "metadata": {},
   "outputs": [
    {
     "name": "stdout",
     "output_type": "stream",
     "text": [
      "12261\n"
     ]
    },
    {
     "data": {
      "text/html": [
       "<div>\n",
       "<style scoped>\n",
       "    .dataframe tbody tr th:only-of-type {\n",
       "        vertical-align: middle;\n",
       "    }\n",
       "\n",
       "    .dataframe tbody tr th {\n",
       "        vertical-align: top;\n",
       "    }\n",
       "\n",
       "    .dataframe thead th {\n",
       "        text-align: right;\n",
       "    }\n",
       "</style>\n",
       "<table border=\"1\" class=\"dataframe\">\n",
       "  <thead>\n",
       "    <tr style=\"text-align: right;\">\n",
       "      <th></th>\n",
       "      <th>ages</th>\n",
       "      <th>list_price</th>\n",
       "      <th>num_reviews</th>\n",
       "      <th>piece_count</th>\n",
       "      <th>play_star_rating</th>\n",
       "      <th>prod_desc</th>\n",
       "      <th>prod_id</th>\n",
       "      <th>prod_long_desc</th>\n",
       "      <th>review_difficulty</th>\n",
       "      <th>set_name</th>\n",
       "      <th>star_rating</th>\n",
       "      <th>theme_name</th>\n",
       "      <th>val_star_rating</th>\n",
       "      <th>country</th>\n",
       "    </tr>\n",
       "  </thead>\n",
       "  <tbody>\n",
       "    <tr>\n",
       "      <th>0</th>\n",
       "      <td>6-12</td>\n",
       "      <td>29.99</td>\n",
       "      <td>2.0</td>\n",
       "      <td>277.0</td>\n",
       "      <td>4.0</td>\n",
       "      <td>Catapult into action and take back the eggs fr...</td>\n",
       "      <td>75823.0</td>\n",
       "      <td>Use the staircase catapult to launch Red into ...</td>\n",
       "      <td>Average</td>\n",
       "      <td>Bird Island Egg Heist</td>\n",
       "      <td>4.5</td>\n",
       "      <td>Angry Birds™</td>\n",
       "      <td>4.0</td>\n",
       "      <td>US</td>\n",
       "    </tr>\n",
       "    <tr>\n",
       "      <th>1</th>\n",
       "      <td>6-12</td>\n",
       "      <td>19.99</td>\n",
       "      <td>2.0</td>\n",
       "      <td>168.0</td>\n",
       "      <td>4.0</td>\n",
       "      <td>Launch a flying attack and rescue the eggs fro...</td>\n",
       "      <td>75822.0</td>\n",
       "      <td>Pilot Pig has taken off from Bird Island with ...</td>\n",
       "      <td>Easy</td>\n",
       "      <td>Piggy Plane Attack</td>\n",
       "      <td>5.0</td>\n",
       "      <td>Angry Birds™</td>\n",
       "      <td>4.0</td>\n",
       "      <td>US</td>\n",
       "    </tr>\n",
       "    <tr>\n",
       "      <th>2</th>\n",
       "      <td>6-12</td>\n",
       "      <td>12.99</td>\n",
       "      <td>11.0</td>\n",
       "      <td>74.0</td>\n",
       "      <td>4.3</td>\n",
       "      <td>Chase the piggy with lightning-fast Chuck and ...</td>\n",
       "      <td>75821.0</td>\n",
       "      <td>Pitch speedy bird Chuck against the Piggy Car....</td>\n",
       "      <td>Easy</td>\n",
       "      <td>Piggy Car Escape</td>\n",
       "      <td>4.3</td>\n",
       "      <td>Angry Birds™</td>\n",
       "      <td>4.1</td>\n",
       "      <td>US</td>\n",
       "    </tr>\n",
       "    <tr>\n",
       "      <th>3</th>\n",
       "      <td>12+</td>\n",
       "      <td>99.99</td>\n",
       "      <td>23.0</td>\n",
       "      <td>1032.0</td>\n",
       "      <td>3.6</td>\n",
       "      <td>Explore the architecture of the United States ...</td>\n",
       "      <td>21030.0</td>\n",
       "      <td>Discover the architectural secrets of the icon...</td>\n",
       "      <td>Average</td>\n",
       "      <td>United States Capitol Building</td>\n",
       "      <td>4.6</td>\n",
       "      <td>Architecture</td>\n",
       "      <td>4.3</td>\n",
       "      <td>US</td>\n",
       "    </tr>\n",
       "    <tr>\n",
       "      <th>4</th>\n",
       "      <td>12+</td>\n",
       "      <td>79.99</td>\n",
       "      <td>14.0</td>\n",
       "      <td>744.0</td>\n",
       "      <td>3.2</td>\n",
       "      <td>Recreate the Solomon R. Guggenheim Museum® wit...</td>\n",
       "      <td>21035.0</td>\n",
       "      <td>Discover the architectural secrets of Frank Ll...</td>\n",
       "      <td>Challenging</td>\n",
       "      <td>Solomon R. Guggenheim Museum®</td>\n",
       "      <td>4.6</td>\n",
       "      <td>Architecture</td>\n",
       "      <td>4.1</td>\n",
       "      <td>US</td>\n",
       "    </tr>\n",
       "  </tbody>\n",
       "</table>\n",
       "</div>"
      ],
      "text/plain": [
       "   ages  list_price  num_reviews  piece_count  play_star_rating  \\\n",
       "0  6-12       29.99          2.0        277.0               4.0   \n",
       "1  6-12       19.99          2.0        168.0               4.0   \n",
       "2  6-12       12.99         11.0         74.0               4.3   \n",
       "3   12+       99.99         23.0       1032.0               3.6   \n",
       "4   12+       79.99         14.0        744.0               3.2   \n",
       "\n",
       "                                           prod_desc  prod_id  \\\n",
       "0  Catapult into action and take back the eggs fr...  75823.0   \n",
       "1  Launch a flying attack and rescue the eggs fro...  75822.0   \n",
       "2  Chase the piggy with lightning-fast Chuck and ...  75821.0   \n",
       "3  Explore the architecture of the United States ...  21030.0   \n",
       "4  Recreate the Solomon R. Guggenheim Museum® wit...  21035.0   \n",
       "\n",
       "                                      prod_long_desc review_difficulty  \\\n",
       "0  Use the staircase catapult to launch Red into ...           Average   \n",
       "1  Pilot Pig has taken off from Bird Island with ...              Easy   \n",
       "2  Pitch speedy bird Chuck against the Piggy Car....              Easy   \n",
       "3  Discover the architectural secrets of the icon...           Average   \n",
       "4  Discover the architectural secrets of Frank Ll...       Challenging   \n",
       "\n",
       "                         set_name  star_rating    theme_name  val_star_rating  \\\n",
       "0           Bird Island Egg Heist          4.5  Angry Birds™              4.0   \n",
       "1              Piggy Plane Attack          5.0  Angry Birds™              4.0   \n",
       "2                Piggy Car Escape          4.3  Angry Birds™              4.1   \n",
       "3  United States Capitol Building          4.6  Architecture              4.3   \n",
       "4   Solomon R. Guggenheim Museum®          4.6  Architecture              4.1   \n",
       "\n",
       "  country  \n",
       "0      US  \n",
       "1      US  \n",
       "2      US  \n",
       "3      US  \n",
       "4      US  "
      ]
     },
     "execution_count": 5,
     "metadata": {},
     "output_type": "execute_result"
    }
   ],
   "source": [
    "df = pd.read_csv('Downloads/lego_sets.csv')\n",
    "print(len(df))\n",
    "df.head()"
   ]
  },
  {
   "cell_type": "code",
   "execution_count": 1,
   "metadata": {},
   "outputs": [
    {
     "ename": "NameError",
     "evalue": "name 'df' is not defined",
     "output_type": "error",
     "traceback": [
      "\u001b[0;31m---------------------------------------------------------------------------\u001b[0m",
      "\u001b[0;31mNameError\u001b[0m                                 Traceback (most recent call last)",
      "\u001b[0;32m<ipython-input-1-c42a15b2c7cf>\u001b[0m in \u001b[0;36m<module>\u001b[0;34m()\u001b[0m\n\u001b[0;32m----> 1\u001b[0;31m \u001b[0mdf\u001b[0m\u001b[0;34m.\u001b[0m\u001b[0mhead\u001b[0m\u001b[0;34m(\u001b[0m\u001b[0;34m)\u001b[0m\u001b[0;34m\u001b[0m\u001b[0m\n\u001b[0m",
      "\u001b[0;31mNameError\u001b[0m: name 'df' is not defined"
     ]
    }
   ],
   "source": [
    "df.head()"
   ]
  },
  {
   "cell_type": "code",
   "execution_count": 53,
   "metadata": {},
   "outputs": [
    {
     "name": "stdout",
     "output_type": "stream",
     "text": [
      "<class 'pandas.core.frame.DataFrame'>\n",
      "RangeIndex: 12261 entries, 0 to 12260\n",
      "Data columns (total 14 columns):\n",
      "ages                 12261 non-null object\n",
      "list_price           12261 non-null float64\n",
      "num_reviews          10641 non-null float64\n",
      "piece_count          12261 non-null float64\n",
      "play_star_rating     10486 non-null float64\n",
      "prod_desc            11884 non-null object\n",
      "prod_id              12261 non-null float64\n",
      "prod_long_desc       12261 non-null object\n",
      "review_difficulty    10206 non-null object\n",
      "set_name             12261 non-null object\n",
      "star_rating          10641 non-null float64\n",
      "theme_name           12258 non-null object\n",
      "val_star_rating      10466 non-null float64\n",
      "country              12261 non-null object\n",
      "dtypes: float64(7), object(7)\n",
      "memory usage: 1.3+ MB\n"
     ]
    }
   ],
   "source": [
    "df.info()"
   ]
  },
  {
   "cell_type": "code",
   "execution_count": 54,
   "metadata": {},
   "outputs": [
    {
     "data": {
      "text/plain": [
       "Index(['ages', 'list_price', 'num_reviews', 'piece_count', 'play_star_rating',\n",
       "       'prod_desc', 'prod_id', 'prod_long_desc', 'review_difficulty',\n",
       "       'set_name', 'star_rating', 'theme_name', 'val_star_rating', 'country'],\n",
       "      dtype='object')"
      ]
     },
     "execution_count": 54,
     "metadata": {},
     "output_type": "execute_result"
    }
   ],
   "source": [
    "df.columns"
   ]
  },
  {
   "cell_type": "code",
   "execution_count": 8,
   "metadata": {},
   "outputs": [],
   "source": [
    "for col in X.columns:\n",
    "    try:\n",
    "        mean = df[col].mean()\n",
    "        df[col] = df[col].fillna(value=mean)\n",
    "    except:\n",
    "        #Col is text\n",
    "        pass"
   ]
  },
  {
   "cell_type": "code",
   "execution_count": 9,
   "metadata": {},
   "outputs": [],
   "source": [
    "def normalize_func(value):\n",
    "    output = (value - minimum) / range_\n",
    "    return output"
   ]
  },
  {
   "cell_type": "code",
   "execution_count": 10,
   "metadata": {},
   "outputs": [
    {
     "name": "stdout",
     "output_type": "stream",
     "text": [
      "ages, Minimum: 10+, Maximum: 9-16\n",
      "Column ages is probably not numeric.\n",
      "list_price, Minimum: 2.2724, Maximum: 1104.87\n",
      "list_price, Minimum: 0.0, Maximum: 1.0\n",
      "\n",
      "\n",
      "num_reviews, Minimum: 1.0, Maximum: 367.0\n",
      "num_reviews, Minimum: 0.0, Maximum: 1.0\n",
      "\n",
      "\n",
      "piece_count, Minimum: 1.0, Maximum: 7541.0\n",
      "piece_count, Minimum: 0.0, Maximum: 1.0\n",
      "\n",
      "\n",
      "play_star_rating, Minimum: 1.0, Maximum: 5.0\n",
      "play_star_rating, Minimum: 0.0, Maximum: 1.0\n",
      "\n",
      "\n",
      "Column prod_desc is probably not numeric.\n",
      "prod_id, Minimum: 630.0, Maximum: 2000431.0\n",
      "prod_id, Minimum: 0.0, Maximum: 1.0\n",
      "\n",
      "\n",
      "prod_long_desc, Minimum: Act out perilous LEGO® Star Wars: The Freemaker Adventures missions with The Arrowhead. This aggressive-looking starship features a lift-off cockpit canopy with space for 3 minifigures and R0-GR inside, a transparent opening dome revealing the ship’s removable crystal power source element, 2 spring-loaded shooters and an impressive flip-out battering ram. There’s also a service cart with tools and ammo as an extra play starter.\n",
      "Build the Freemakers’ ultimate Kyber-powered rebel starfighter, with space for 3 minifigures, a rotating blade, and spring-loaded shooters\n",
      "Featured in the LEGO Star Wars: The Freemaker Adventures TV show\n",
      "Includes Zander, Kordi, Quarrie, a Stormtrooper and a R0-GR figure\n",
      "LEGO Star Wars building toys are compatible with all LEGO construction sets for creative building\n",
      "Measures over 2” high, 20” long and 9” wide. Service cart measures over 1” long and 1” wide, and under 1” high\n",
      "775 pieces – For boys and girls between the ages of 8 and 14 years old, Maximum: Zoom into battle against Flintlocke's Sky Shark with Lloyd using the convertible drone/jetpack. The Sky Shark jet features a dynamite-dropping function, fold-out blades, 6 detachable guns and a hidden sword, plus lots of pirate details. Defeat the sky pirate and then free the ‘trapped Kai' element from the special Djinn blade. Includes 2 minifigures: Lloyd and Flintlocke.\n",
      "Includes 2 minifigures: Lloyd and Flintlocke.\n",
      "The Sky Shark features an opening cockpit with detailed dashboard stickers, a dropping function (to drop 2 dynamite or 2 rotten fish elements), 2 fold-out blades, plus a hidden pirate sword and 6 detachable guns.\n",
      "The Sky Shark also incorporates many pirate details including chains, anchors, 2 treasure chests, 2 barrels and 2 orange rotten fish and bone elements.\n",
      "A dual-function drone/jetpack with translucent flame elements is also includedwhich may be used on its own as a drone or attached to Lloyd as a jetpack.\n",
      "Weapons include a translucent red Djinn Blade with ‘trapped' Kai' element and Lloyd's golden weapon staff.\n",
      "Recreate and role-play epic scenes from the NINJAGO™: Masters of Spinjitzu TV show.\n",
      "Sky Shark measures over 2” (6cm) high, 10” (27cm) long and 6” (16cm) wide.\n",
      "Drone/jetpack measures over 3” (9cm) high and 1” (5cm) wide and under 1” (2cm) deep.\n",
      "Column prod_long_desc is probably not numeric.\n",
      "Column review_difficulty is probably not numeric.\n",
      "set_name, Minimum: 1968 Ford Mustang Fastback, Maximum: garmadon, Garmadon, GARMADON!\n",
      "Column set_name is probably not numeric.\n",
      "star_rating, Minimum: 1.8, Maximum: 5.0\n",
      "star_rating, Minimum: 0.0, Maximum: 1.0\n",
      "\n",
      "\n",
      "Column theme_name is probably not numeric.\n",
      "val_star_rating, Minimum: 1.0, Maximum: 5.0\n",
      "val_star_rating, Minimum: 0.0, Maximum: 1.0\n",
      "\n",
      "\n",
      "country, Minimum: AT, Maximum: US\n",
      "Column country is probably not numeric.\n"
     ]
    }
   ],
   "source": [
    "for col in df.columns:\n",
    "    try:\n",
    "        minimum = df[col].min()\n",
    "        maximum = df[col].max()\n",
    "        print('{}, Minimum: {}, Maximum: {}'.format(col, minimum, maximum))\n",
    "        range_ = maximum - minimum\n",
    "        df[col] = df[col].map(normalize_func)\n",
    "        print('{}, Minimum: {}, Maximum: {}'.format(col, df[col].min(), df[col].max()))\n",
    "        print('\\n')\n",
    "    except:\n",
    "        print('Column {} is probably not numeric.'.format(col))"
   ]
  },
  {
   "cell_type": "code",
   "execution_count": 23,
   "metadata": {},
   "outputs": [],
   "source": [
    "X = df[['num_reviews', 'piece_count', 'play_star_rating', 'star_rating', 'val_star_rating']]\n",
    "y = df.list_price"
   ]
  },
  {
   "cell_type": "code",
   "execution_count": null,
   "metadata": {},
   "outputs": [],
   "source": [
    "df.head()"
   ]
  },
  {
   "cell_type": "code",
   "execution_count": 24,
   "metadata": {},
   "outputs": [],
   "source": [
    "#Subset the Data into appropriate X and Y features. (X should be multiple features!)\n",
    "X = df[['budget', 'Year', 'imdbRating', 'Metascore', 'imdbVotes']]\n",
    "y = df['domgross']"
   ]
  },
  {
   "cell_type": "markdown",
   "metadata": {},
   "source": [
    "### 2. For each feature in X, create several new columns that are powers of that feature. For example, you could take the $budget$ column and produce another column $budget**2$, a third column $budget**3$, a fourth column $budget**4$ and so on. Do this until you have more columns then rows."
   ]
  },
  {
   "cell_type": "code",
   "execution_count": 9,
   "metadata": {},
   "outputs": [
    {
     "data": {
      "text/plain": [
       "pandas.core.frame.DataFrame"
      ]
     },
     "execution_count": 9,
     "metadata": {},
     "output_type": "execute_result"
    }
   ],
   "source": [
    "type(X)"
   ]
  },
  {
   "cell_type": "code",
   "execution_count": 25,
   "metadata": {},
   "outputs": [
    {
     "data": {
      "text/html": [
       "<div>\n",
       "<style scoped>\n",
       "    .dataframe tbody tr th:only-of-type {\n",
       "        vertical-align: middle;\n",
       "    }\n",
       "\n",
       "    .dataframe tbody tr th {\n",
       "        vertical-align: top;\n",
       "    }\n",
       "\n",
       "    .dataframe thead th {\n",
       "        text-align: right;\n",
       "    }\n",
       "</style>\n",
       "<table border=\"1\" class=\"dataframe\">\n",
       "  <thead>\n",
       "    <tr style=\"text-align: right;\">\n",
       "      <th></th>\n",
       "      <th>budget</th>\n",
       "      <th>Year</th>\n",
       "      <th>imdbRating</th>\n",
       "      <th>Metascore</th>\n",
       "      <th>imdbVotes</th>\n",
       "    </tr>\n",
       "  </thead>\n",
       "  <tbody>\n",
       "    <tr>\n",
       "      <th>0</th>\n",
       "      <td>0.034169</td>\n",
       "      <td>0.864865</td>\n",
       "      <td>0.593750</td>\n",
       "      <td>0.294118</td>\n",
       "      <td>0.357377</td>\n",
       "    </tr>\n",
       "    <tr>\n",
       "      <th>1</th>\n",
       "      <td>0.182956</td>\n",
       "      <td>0.972973</td>\n",
       "      <td>0.577546</td>\n",
       "      <td>0.433824</td>\n",
       "      <td>0.348404</td>\n",
       "    </tr>\n",
       "  </tbody>\n",
       "</table>\n",
       "</div>"
      ],
      "text/plain": [
       "     budget      Year  imdbRating  Metascore  imdbVotes\n",
       "0  0.034169  0.864865    0.593750   0.294118   0.357377\n",
       "1  0.182956  0.972973    0.577546   0.433824   0.348404"
      ]
     },
     "execution_count": 25,
     "metadata": {},
     "output_type": "execute_result"
    }
   ],
   "source": [
    "X.head(2)"
   ]
  },
  {
   "cell_type": "code",
   "execution_count": 35,
   "metadata": {},
   "outputs": [
    {
     "data": {
      "text/html": [
       "<div>\n",
       "<style scoped>\n",
       "    .dataframe tbody tr th:only-of-type {\n",
       "        vertical-align: middle;\n",
       "    }\n",
       "\n",
       "    .dataframe tbody tr th {\n",
       "        vertical-align: top;\n",
       "    }\n",
       "\n",
       "    .dataframe thead th {\n",
       "        text-align: right;\n",
       "    }\n",
       "</style>\n",
       "<table border=\"1\" class=\"dataframe\">\n",
       "  <thead>\n",
       "    <tr style=\"text-align: right;\">\n",
       "      <th></th>\n",
       "      <th>num_reviews</th>\n",
       "      <th>piece_count</th>\n",
       "      <th>play_star_rating</th>\n",
       "      <th>star_rating</th>\n",
       "      <th>val_star_rating</th>\n",
       "      <th>num_reviews^2</th>\n",
       "      <th>num_reviews^3</th>\n",
       "      <th>num_reviews^4</th>\n",
       "      <th>piece_count^2</th>\n",
       "      <th>piece_count^3</th>\n",
       "      <th>...</th>\n",
       "      <th>val_star_rating^4^9^10</th>\n",
       "      <th>val_star_rating^4^9^11</th>\n",
       "      <th>val_star_rating^4^9^12</th>\n",
       "      <th>val_star_rating^4^9^13</th>\n",
       "      <th>val_star_rating^4^9^14</th>\n",
       "      <th>val_star_rating^4^9^15</th>\n",
       "      <th>val_star_rating^4^9^16</th>\n",
       "      <th>val_star_rating^4^9^17</th>\n",
       "      <th>val_star_rating^4^9^18</th>\n",
       "      <th>val_star_rating^4^9^19</th>\n",
       "    </tr>\n",
       "  </thead>\n",
       "  <tbody>\n",
       "    <tr>\n",
       "      <th>0</th>\n",
       "      <td>0.002732</td>\n",
       "      <td>0.036605</td>\n",
       "      <td>0.750</td>\n",
       "      <td>0.84375</td>\n",
       "      <td>0.750</td>\n",
       "      <td>0.000007</td>\n",
       "      <td>2.039655e-08</td>\n",
       "      <td>5.572828e-11</td>\n",
       "      <td>0.001340</td>\n",
       "      <td>4.904709e-05</td>\n",
       "      <td>...</td>\n",
       "      <td>1.052095e-45</td>\n",
       "      <td>3.343954e-50</td>\n",
       "      <td>1.062835e-54</td>\n",
       "      <td>3.378090e-59</td>\n",
       "      <td>1.073685e-63</td>\n",
       "      <td>3.412575e-68</td>\n",
       "      <td>1.084645e-72</td>\n",
       "      <td>3.447412e-77</td>\n",
       "      <td>1.095718e-81</td>\n",
       "      <td>3.482605e-86</td>\n",
       "    </tr>\n",
       "    <tr>\n",
       "      <th>1</th>\n",
       "      <td>0.002732</td>\n",
       "      <td>0.022149</td>\n",
       "      <td>0.750</td>\n",
       "      <td>1.00000</td>\n",
       "      <td>0.750</td>\n",
       "      <td>0.000007</td>\n",
       "      <td>2.039655e-08</td>\n",
       "      <td>5.572828e-11</td>\n",
       "      <td>0.000491</td>\n",
       "      <td>1.086514e-05</td>\n",
       "      <td>...</td>\n",
       "      <td>1.052095e-45</td>\n",
       "      <td>3.343954e-50</td>\n",
       "      <td>1.062835e-54</td>\n",
       "      <td>3.378090e-59</td>\n",
       "      <td>1.073685e-63</td>\n",
       "      <td>3.412575e-68</td>\n",
       "      <td>1.084645e-72</td>\n",
       "      <td>3.447412e-77</td>\n",
       "      <td>1.095718e-81</td>\n",
       "      <td>3.482605e-86</td>\n",
       "    </tr>\n",
       "    <tr>\n",
       "      <th>2</th>\n",
       "      <td>0.027322</td>\n",
       "      <td>0.009682</td>\n",
       "      <td>0.825</td>\n",
       "      <td>0.78125</td>\n",
       "      <td>0.775</td>\n",
       "      <td>0.000747</td>\n",
       "      <td>2.039655e-05</td>\n",
       "      <td>5.572828e-07</td>\n",
       "      <td>0.000094</td>\n",
       "      <td>9.075165e-07</td>\n",
       "      <td>...</td>\n",
       "      <td>1.408033e-40</td>\n",
       "      <td>1.457049e-44</td>\n",
       "      <td>1.507771e-48</td>\n",
       "      <td>1.560259e-52</td>\n",
       "      <td>1.614574e-56</td>\n",
       "      <td>1.670780e-60</td>\n",
       "      <td>1.728943e-64</td>\n",
       "      <td>1.789130e-68</td>\n",
       "      <td>1.851413e-72</td>\n",
       "      <td>1.915863e-76</td>\n",
       "    </tr>\n",
       "    <tr>\n",
       "      <th>3</th>\n",
       "      <td>0.060109</td>\n",
       "      <td>0.136737</td>\n",
       "      <td>0.650</td>\n",
       "      <td>0.87500</td>\n",
       "      <td>0.825</td>\n",
       "      <td>0.003613</td>\n",
       "      <td>2.171825e-04</td>\n",
       "      <td>1.305468e-05</td>\n",
       "      <td>0.018697</td>\n",
       "      <td>2.556595e-03</td>\n",
       "      <td>...</td>\n",
       "      <td>8.383425e-31</td>\n",
       "      <td>8.236897e-34</td>\n",
       "      <td>8.092930e-37</td>\n",
       "      <td>7.951479e-40</td>\n",
       "      <td>7.812501e-43</td>\n",
       "      <td>7.675951e-46</td>\n",
       "      <td>7.541789e-49</td>\n",
       "      <td>7.409971e-52</td>\n",
       "      <td>7.280457e-55</td>\n",
       "      <td>7.153207e-58</td>\n",
       "    </tr>\n",
       "    <tr>\n",
       "      <th>4</th>\n",
       "      <td>0.035519</td>\n",
       "      <td>0.098541</td>\n",
       "      <td>0.550</td>\n",
       "      <td>0.87500</td>\n",
       "      <td>0.775</td>\n",
       "      <td>0.001262</td>\n",
       "      <td>4.481122e-05</td>\n",
       "      <td>1.591655e-06</td>\n",
       "      <td>0.009710</td>\n",
       "      <td>9.568688e-04</td>\n",
       "      <td>...</td>\n",
       "      <td>1.408033e-40</td>\n",
       "      <td>1.457049e-44</td>\n",
       "      <td>1.507771e-48</td>\n",
       "      <td>1.560259e-52</td>\n",
       "      <td>1.614574e-56</td>\n",
       "      <td>1.670780e-60</td>\n",
       "      <td>1.728943e-64</td>\n",
       "      <td>1.789130e-68</td>\n",
       "      <td>1.851413e-72</td>\n",
       "      <td>1.915863e-76</td>\n",
       "    </tr>\n",
       "  </tbody>\n",
       "</table>\n",
       "<p>5 rows × 2975 columns</p>\n",
       "</div>"
      ],
      "text/plain": [
       "   num_reviews  piece_count  play_star_rating  star_rating  val_star_rating  \\\n",
       "0     0.002732     0.036605             0.750      0.84375            0.750   \n",
       "1     0.002732     0.022149             0.750      1.00000            0.750   \n",
       "2     0.027322     0.009682             0.825      0.78125            0.775   \n",
       "3     0.060109     0.136737             0.650      0.87500            0.825   \n",
       "4     0.035519     0.098541             0.550      0.87500            0.775   \n",
       "\n",
       "   num_reviews^2  num_reviews^3  num_reviews^4  piece_count^2  piece_count^3  \\\n",
       "0       0.000007   2.039655e-08   5.572828e-11       0.001340   4.904709e-05   \n",
       "1       0.000007   2.039655e-08   5.572828e-11       0.000491   1.086514e-05   \n",
       "2       0.000747   2.039655e-05   5.572828e-07       0.000094   9.075165e-07   \n",
       "3       0.003613   2.171825e-04   1.305468e-05       0.018697   2.556595e-03   \n",
       "4       0.001262   4.481122e-05   1.591655e-06       0.009710   9.568688e-04   \n",
       "\n",
       "            ...            val_star_rating^4^9^10  val_star_rating^4^9^11  \\\n",
       "0           ...                      1.052095e-45            3.343954e-50   \n",
       "1           ...                      1.052095e-45            3.343954e-50   \n",
       "2           ...                      1.408033e-40            1.457049e-44   \n",
       "3           ...                      8.383425e-31            8.236897e-34   \n",
       "4           ...                      1.408033e-40            1.457049e-44   \n",
       "\n",
       "   val_star_rating^4^9^12  val_star_rating^4^9^13  val_star_rating^4^9^14  \\\n",
       "0            1.062835e-54            3.378090e-59            1.073685e-63   \n",
       "1            1.062835e-54            3.378090e-59            1.073685e-63   \n",
       "2            1.507771e-48            1.560259e-52            1.614574e-56   \n",
       "3            8.092930e-37            7.951479e-40            7.812501e-43   \n",
       "4            1.507771e-48            1.560259e-52            1.614574e-56   \n",
       "\n",
       "   val_star_rating^4^9^15  val_star_rating^4^9^16  val_star_rating^4^9^17  \\\n",
       "0            3.412575e-68            1.084645e-72            3.447412e-77   \n",
       "1            3.412575e-68            1.084645e-72            3.447412e-77   \n",
       "2            1.670780e-60            1.728943e-64            1.789130e-68   \n",
       "3            7.675951e-46            7.541789e-49            7.409971e-52   \n",
       "4            1.670780e-60            1.728943e-64            1.789130e-68   \n",
       "\n",
       "   val_star_rating^4^9^18  val_star_rating^4^9^19  \n",
       "0            1.095718e-81            3.482605e-86  \n",
       "1            1.095718e-81            3.482605e-86  \n",
       "2            1.851413e-72            1.915863e-76  \n",
       "3            7.280457e-55            7.153207e-58  \n",
       "4            1.851413e-72            1.915863e-76  \n",
       "\n",
       "[5 rows x 2975 columns]"
      ]
     },
     "execution_count": 35,
     "metadata": {},
     "output_type": "execute_result"
    }
   ],
   "source": [
    "#Your code here.\n",
    "#Create additional features using powers until you have more columns then rows.\n",
    "for col in X.columns:\n",
    "    for power in range(2,20):\n",
    "        new_col_name = '{}^{}'.format(col,power)\n",
    "        X[new_col_name] = X[col].map(lambda x: x**power)\n",
    "X.head()"
   ]
  },
  {
   "cell_type": "code",
   "execution_count": 36,
   "metadata": {},
   "outputs": [
    {
     "name": "stdout",
     "output_type": "stream",
     "text": [
      "12261\n"
     ]
    }
   ],
   "source": [
    "print(len(df))"
   ]
  },
  {
   "cell_type": "code",
   "execution_count": 21,
   "metadata": {},
   "outputs": [
    {
     "data": {
      "text/html": [
       "<div>\n",
       "<style scoped>\n",
       "    .dataframe tbody tr th:only-of-type {\n",
       "        vertical-align: middle;\n",
       "    }\n",
       "\n",
       "    .dataframe tbody tr th {\n",
       "        vertical-align: top;\n",
       "    }\n",
       "\n",
       "    .dataframe thead th {\n",
       "        text-align: right;\n",
       "    }\n",
       "</style>\n",
       "<table border=\"1\" class=\"dataframe\">\n",
       "  <thead>\n",
       "    <tr style=\"text-align: right;\">\n",
       "      <th></th>\n",
       "      <th>budget</th>\n",
       "      <th>domgross</th>\n",
       "      <th>title</th>\n",
       "      <th>Response_Json</th>\n",
       "      <th>Year</th>\n",
       "      <th>imdbRating</th>\n",
       "      <th>Metascore</th>\n",
       "      <th>imdbVotes</th>\n",
       "    </tr>\n",
       "  </thead>\n",
       "  <tbody>\n",
       "    <tr>\n",
       "      <th>0</th>\n",
       "      <td>13000000</td>\n",
       "      <td>25682380</td>\n",
       "      <td>21 &amp;amp; Over</td>\n",
       "      <td>NaN</td>\n",
       "      <td>2008.0</td>\n",
       "      <td>6.8</td>\n",
       "      <td>48.0</td>\n",
       "      <td>206513.0</td>\n",
       "    </tr>\n",
       "    <tr>\n",
       "      <th>1</th>\n",
       "      <td>45658735</td>\n",
       "      <td>13414714</td>\n",
       "      <td>Dredd 3D</td>\n",
       "      <td>NaN</td>\n",
       "      <td>2012.0</td>\n",
       "      <td>NaN</td>\n",
       "      <td>NaN</td>\n",
       "      <td>NaN</td>\n",
       "    </tr>\n",
       "    <tr>\n",
       "      <th>2</th>\n",
       "      <td>20000000</td>\n",
       "      <td>53107035</td>\n",
       "      <td>12 Years a Slave</td>\n",
       "      <td>NaN</td>\n",
       "      <td>2013.0</td>\n",
       "      <td>8.1</td>\n",
       "      <td>96.0</td>\n",
       "      <td>537525.0</td>\n",
       "    </tr>\n",
       "    <tr>\n",
       "      <th>3</th>\n",
       "      <td>61000000</td>\n",
       "      <td>75612460</td>\n",
       "      <td>2 Guns</td>\n",
       "      <td>NaN</td>\n",
       "      <td>2013.0</td>\n",
       "      <td>6.7</td>\n",
       "      <td>55.0</td>\n",
       "      <td>173726.0</td>\n",
       "    </tr>\n",
       "    <tr>\n",
       "      <th>4</th>\n",
       "      <td>40000000</td>\n",
       "      <td>95020213</td>\n",
       "      <td>42</td>\n",
       "      <td>NaN</td>\n",
       "      <td>2013.0</td>\n",
       "      <td>7.5</td>\n",
       "      <td>62.0</td>\n",
       "      <td>74170.0</td>\n",
       "    </tr>\n",
       "  </tbody>\n",
       "</table>\n",
       "</div>"
      ],
      "text/plain": [
       "     budget  domgross             title  Response_Json    Year  imdbRating  \\\n",
       "0  13000000  25682380     21 &amp; Over            NaN  2008.0         6.8   \n",
       "1  45658735  13414714          Dredd 3D            NaN  2012.0         NaN   \n",
       "2  20000000  53107035  12 Years a Slave            NaN  2013.0         8.1   \n",
       "3  61000000  75612460            2 Guns            NaN  2013.0         6.7   \n",
       "4  40000000  95020213                42            NaN  2013.0         7.5   \n",
       "\n",
       "   Metascore  imdbVotes  \n",
       "0       48.0   206513.0  \n",
       "1        NaN        NaN  \n",
       "2       96.0   537525.0  \n",
       "3       55.0   173726.0  \n",
       "4       62.0    74170.0  "
      ]
     },
     "execution_count": 21,
     "metadata": {},
     "output_type": "execute_result"
    }
   ],
   "source": [
    "df.head()"
   ]
  },
  {
   "cell_type": "markdown",
   "metadata": {},
   "source": [
    "### 3. Use all of your new features for X. Train a model"
   ]
  },
  {
   "cell_type": "code",
   "execution_count": null,
   "metadata": {},
   "outputs": [],
   "source": [
    "#Your code here\n"
   ]
  },
  {
   "cell_type": "markdown",
   "metadata": {},
   "source": [
    "### 4. Plot the model and the actual data on the Budget/Gross Domestic Product plane. (Remember this is just a slice of your n-dimensional space!)"
   ]
  },
  {
   "cell_type": "code",
   "execution_count": null,
   "metadata": {},
   "outputs": [],
   "source": [
    "#Your code here"
   ]
  },
  {
   "cell_type": "markdown",
   "metadata": {},
   "source": [
    "### 5. What do you notice?"
   ]
  },
  {
   "cell_type": "markdown",
   "metadata": {},
   "source": [
    "#Your response here \n",
    "\n",
    "Note: This box (like all the questions and headers) is formatted in Markdown. See a brief cheat sheet of [markdown syntax here](https://guides.github.com/pdfs/markdown-cheatsheet-online.pdf)!"
   ]
  },
  {
   "cell_type": "markdown",
   "metadata": {},
   "source": [
    "## Train Test Split\n",
    "\n",
    "Here lies the theoretical underpinnings for train test split. Essentially, we are trying to gauge the generalization error of our currently tuned model to future cases. (After all, that's the value of predictive models; to predict fturue states or occurences! By initially dividing our data into one set that we will optimize and train our models on, and a second hold out set that we later verify our models on but never tune them against, we can better judge how well our models will generalize to future cases outside of the scope of current observations."
   ]
  },
  {
   "cell_type": "markdown",
   "metadata": {},
   "source": [
    "### 6. Split your data (including all of those feature engineered columns) into two sets; train and test. In other words, instead of simply X and respective Y datasets, you will now have 4 subsets: X_train, y_train, X_test, and y_test."
   ]
  },
  {
   "cell_type": "code",
   "execution_count": 14,
   "metadata": {},
   "outputs": [],
   "source": [
    "from sklearn.model_selection import train_test_split"
   ]
  },
  {
   "cell_type": "code",
   "execution_count": 38,
   "metadata": {},
   "outputs": [],
   "source": [
    "X_train, X_test, y_train, y_test = train_test_split(X, y, random_state=42)"
   ]
  },
  {
   "cell_type": "code",
   "execution_count": 18,
   "metadata": {},
   "outputs": [],
   "source": [
    "from sklearn.linear_model import LinearRegression"
   ]
  },
  {
   "cell_type": "code",
   "execution_count": 31,
   "metadata": {},
   "outputs": [],
   "source": [
    "model = LinearRegression()"
   ]
  },
  {
   "cell_type": "markdown",
   "metadata": {},
   "source": [
    "### 7. Train your model on the train set."
   ]
  },
  {
   "cell_type": "code",
   "execution_count": 32,
   "metadata": {},
   "outputs": [
    {
     "data": {
      "text/plain": [
       "LinearRegression(copy_X=True, fit_intercept=True, n_jobs=1, normalize=False)"
      ]
     },
     "execution_count": 32,
     "metadata": {},
     "output_type": "execute_result"
    }
   ],
   "source": [
    "model.fit(X_train, y_train)"
   ]
  },
  {
   "cell_type": "markdown",
   "metadata": {},
   "source": [
    "### 8. Evaluate your model on the test set."
   ]
  },
  {
   "cell_type": "code",
   "execution_count": 16,
   "metadata": {},
   "outputs": [],
   "source": [
    "def mse(y, y_hat):\n",
    "    residuals = y_hat - y\n",
    "    squarred_err = [err**2 for err in residuals]\n",
    "    return np.mean(squarred_err)"
   ]
  },
  {
   "cell_type": "code",
   "execution_count": 34,
   "metadata": {},
   "outputs": [],
   "source": [
    "y_hat_test = model.predict(X_test)"
   ]
  },
  {
   "cell_type": "code",
   "execution_count": 17,
   "metadata": {},
   "outputs": [],
   "source": [
    "import numpy as np"
   ]
  },
  {
   "cell_type": "code",
   "execution_count": 37,
   "metadata": {},
   "outputs": [
    {
     "data": {
      "text/plain": [
       "270833.7199525366"
      ]
     },
     "execution_count": 37,
     "metadata": {},
     "output_type": "execute_result"
    }
   ],
   "source": [
    "mse(y_test, y_hat_test)"
   ]
  },
  {
   "cell_type": "code",
   "execution_count": 38,
   "metadata": {},
   "outputs": [
    {
     "data": {
      "text/plain": [
       "5.931478918824638e-05"
      ]
     },
     "execution_count": 38,
     "metadata": {},
     "output_type": "execute_result"
    }
   ],
   "source": [
    "y_hat_train = model.predict(X_train)\n",
    "mse(y_train, y_hat_train)"
   ]
  },
  {
   "cell_type": "code",
   "execution_count": 27,
   "metadata": {},
   "outputs": [],
   "source": [
    "import matplotlib.pyplot as plt\n",
    "%matplotlib inline"
   ]
  },
  {
   "cell_type": "code",
   "execution_count": 45,
   "metadata": {},
   "outputs": [
    {
     "name": "stdout",
     "output_type": "stream",
     "text": [
      "20 Index(['budget', 'Year', 'imdbRating', 'Metascore', 'imdbVotes'], dtype='object')\n"
     ]
    }
   ],
   "source": [
    "print(len(X.columns), X.columns[:5])"
   ]
  },
  {
   "cell_type": "code",
   "execution_count": 20,
   "metadata": {},
   "outputs": [],
   "source": [
    "X = X.fillna(value=0)"
   ]
  },
  {
   "cell_type": "code",
   "execution_count": 22,
   "metadata": {},
   "outputs": [
    {
     "data": {
      "text/html": [
       "<div>\n",
       "<style scoped>\n",
       "    .dataframe tbody tr th:only-of-type {\n",
       "        vertical-align: middle;\n",
       "    }\n",
       "\n",
       "    .dataframe tbody tr th {\n",
       "        vertical-align: top;\n",
       "    }\n",
       "\n",
       "    .dataframe thead th {\n",
       "        text-align: right;\n",
       "    }\n",
       "</style>\n",
       "<table border=\"1\" class=\"dataframe\">\n",
       "  <thead>\n",
       "    <tr style=\"text-align: right;\">\n",
       "      <th></th>\n",
       "      <th>num_reviews</th>\n",
       "      <th>piece_count</th>\n",
       "      <th>play_star_rating</th>\n",
       "      <th>star_rating</th>\n",
       "      <th>val_star_rating</th>\n",
       "      <th>num_reviews^2</th>\n",
       "      <th>num_reviews^3</th>\n",
       "      <th>num_reviews^4</th>\n",
       "      <th>piece_count^2</th>\n",
       "      <th>piece_count^3</th>\n",
       "      <th>piece_count^4</th>\n",
       "      <th>play_star_rating^2</th>\n",
       "      <th>play_star_rating^3</th>\n",
       "      <th>play_star_rating^4</th>\n",
       "      <th>star_rating^2</th>\n",
       "      <th>star_rating^3</th>\n",
       "      <th>star_rating^4</th>\n",
       "      <th>val_star_rating^2</th>\n",
       "      <th>val_star_rating^3</th>\n",
       "      <th>val_star_rating^4</th>\n",
       "    </tr>\n",
       "  </thead>\n",
       "  <tbody>\n",
       "    <tr>\n",
       "      <th>0</th>\n",
       "      <td>2.0</td>\n",
       "      <td>277.0</td>\n",
       "      <td>4.0</td>\n",
       "      <td>4.5</td>\n",
       "      <td>4.0</td>\n",
       "      <td>4.0</td>\n",
       "      <td>8.0</td>\n",
       "      <td>16.0</td>\n",
       "      <td>76729.0</td>\n",
       "      <td>2.125393e+07</td>\n",
       "      <td>5.887339e+09</td>\n",
       "      <td>16.00</td>\n",
       "      <td>64.000</td>\n",
       "      <td>256.0000</td>\n",
       "      <td>20.25</td>\n",
       "      <td>91.125</td>\n",
       "      <td>410.0625</td>\n",
       "      <td>16.00</td>\n",
       "      <td>64.000</td>\n",
       "      <td>256.0000</td>\n",
       "    </tr>\n",
       "    <tr>\n",
       "      <th>1</th>\n",
       "      <td>2.0</td>\n",
       "      <td>168.0</td>\n",
       "      <td>4.0</td>\n",
       "      <td>5.0</td>\n",
       "      <td>4.0</td>\n",
       "      <td>4.0</td>\n",
       "      <td>8.0</td>\n",
       "      <td>16.0</td>\n",
       "      <td>28224.0</td>\n",
       "      <td>4.741632e+06</td>\n",
       "      <td>7.965942e+08</td>\n",
       "      <td>16.00</td>\n",
       "      <td>64.000</td>\n",
       "      <td>256.0000</td>\n",
       "      <td>25.00</td>\n",
       "      <td>125.000</td>\n",
       "      <td>625.0000</td>\n",
       "      <td>16.00</td>\n",
       "      <td>64.000</td>\n",
       "      <td>256.0000</td>\n",
       "    </tr>\n",
       "    <tr>\n",
       "      <th>2</th>\n",
       "      <td>11.0</td>\n",
       "      <td>74.0</td>\n",
       "      <td>4.3</td>\n",
       "      <td>4.3</td>\n",
       "      <td>4.1</td>\n",
       "      <td>121.0</td>\n",
       "      <td>1331.0</td>\n",
       "      <td>14641.0</td>\n",
       "      <td>5476.0</td>\n",
       "      <td>4.052240e+05</td>\n",
       "      <td>2.998658e+07</td>\n",
       "      <td>18.49</td>\n",
       "      <td>79.507</td>\n",
       "      <td>341.8801</td>\n",
       "      <td>18.49</td>\n",
       "      <td>79.507</td>\n",
       "      <td>341.8801</td>\n",
       "      <td>16.81</td>\n",
       "      <td>68.921</td>\n",
       "      <td>282.5761</td>\n",
       "    </tr>\n",
       "    <tr>\n",
       "      <th>3</th>\n",
       "      <td>23.0</td>\n",
       "      <td>1032.0</td>\n",
       "      <td>3.6</td>\n",
       "      <td>4.6</td>\n",
       "      <td>4.3</td>\n",
       "      <td>529.0</td>\n",
       "      <td>12167.0</td>\n",
       "      <td>279841.0</td>\n",
       "      <td>1065024.0</td>\n",
       "      <td>1.099105e+09</td>\n",
       "      <td>1.134276e+12</td>\n",
       "      <td>12.96</td>\n",
       "      <td>46.656</td>\n",
       "      <td>167.9616</td>\n",
       "      <td>21.16</td>\n",
       "      <td>97.336</td>\n",
       "      <td>447.7456</td>\n",
       "      <td>18.49</td>\n",
       "      <td>79.507</td>\n",
       "      <td>341.8801</td>\n",
       "    </tr>\n",
       "    <tr>\n",
       "      <th>4</th>\n",
       "      <td>14.0</td>\n",
       "      <td>744.0</td>\n",
       "      <td>3.2</td>\n",
       "      <td>4.6</td>\n",
       "      <td>4.1</td>\n",
       "      <td>196.0</td>\n",
       "      <td>2744.0</td>\n",
       "      <td>38416.0</td>\n",
       "      <td>553536.0</td>\n",
       "      <td>4.118308e+08</td>\n",
       "      <td>3.064021e+11</td>\n",
       "      <td>10.24</td>\n",
       "      <td>32.768</td>\n",
       "      <td>104.8576</td>\n",
       "      <td>21.16</td>\n",
       "      <td>97.336</td>\n",
       "      <td>447.7456</td>\n",
       "      <td>16.81</td>\n",
       "      <td>68.921</td>\n",
       "      <td>282.5761</td>\n",
       "    </tr>\n",
       "  </tbody>\n",
       "</table>\n",
       "</div>"
      ],
      "text/plain": [
       "   num_reviews  piece_count  play_star_rating  star_rating  val_star_rating  \\\n",
       "0          2.0        277.0               4.0          4.5              4.0   \n",
       "1          2.0        168.0               4.0          5.0              4.0   \n",
       "2         11.0         74.0               4.3          4.3              4.1   \n",
       "3         23.0       1032.0               3.6          4.6              4.3   \n",
       "4         14.0        744.0               3.2          4.6              4.1   \n",
       "\n",
       "   num_reviews^2  num_reviews^3  num_reviews^4  piece_count^2  piece_count^3  \\\n",
       "0            4.0            8.0           16.0        76729.0   2.125393e+07   \n",
       "1            4.0            8.0           16.0        28224.0   4.741632e+06   \n",
       "2          121.0         1331.0        14641.0         5476.0   4.052240e+05   \n",
       "3          529.0        12167.0       279841.0      1065024.0   1.099105e+09   \n",
       "4          196.0         2744.0        38416.0       553536.0   4.118308e+08   \n",
       "\n",
       "   piece_count^4  play_star_rating^2  play_star_rating^3  play_star_rating^4  \\\n",
       "0   5.887339e+09               16.00              64.000            256.0000   \n",
       "1   7.965942e+08               16.00              64.000            256.0000   \n",
       "2   2.998658e+07               18.49              79.507            341.8801   \n",
       "3   1.134276e+12               12.96              46.656            167.9616   \n",
       "4   3.064021e+11               10.24              32.768            104.8576   \n",
       "\n",
       "   star_rating^2  star_rating^3  star_rating^4  val_star_rating^2  \\\n",
       "0          20.25         91.125       410.0625              16.00   \n",
       "1          25.00        125.000       625.0000              16.00   \n",
       "2          18.49         79.507       341.8801              16.81   \n",
       "3          21.16         97.336       447.7456              18.49   \n",
       "4          21.16         97.336       447.7456              16.81   \n",
       "\n",
       "   val_star_rating^3  val_star_rating^4  \n",
       "0             64.000           256.0000  \n",
       "1             64.000           256.0000  \n",
       "2             68.921           282.5761  \n",
       "3             79.507           341.8801  \n",
       "4             68.921           282.5761  "
      ]
     },
     "execution_count": 22,
     "metadata": {},
     "output_type": "execute_result"
    }
   ],
   "source": [
    "X.head()"
   ]
  },
  {
   "cell_type": "code",
   "execution_count": 37,
   "metadata": {},
   "outputs": [
    {
     "ename": "KeyError",
     "evalue": "\"Index(['num_reviews^5'], dtype='object') not in index\"",
     "output_type": "error",
     "traceback": [
      "\u001b[0;31m---------------------------------------------------------------------------\u001b[0m",
      "\u001b[0;31mKeyError\u001b[0m                                  Traceback (most recent call last)",
      "\u001b[0;32m<ipython-input-37-0ec0b75bb342>\u001b[0m in \u001b[0;36m<module>\u001b[0;34m()\u001b[0m\n\u001b[1;32m      5\u001b[0m     \u001b[0;31m#Subset to select features\u001b[0m\u001b[0;34m\u001b[0m\u001b[0;34m\u001b[0m\u001b[0m\n\u001b[1;32m      6\u001b[0m     \u001b[0mcols_to_use\u001b[0m \u001b[0;34m=\u001b[0m \u001b[0mX\u001b[0m\u001b[0;34m.\u001b[0m\u001b[0mcolumns\u001b[0m\u001b[0;34m[\u001b[0m\u001b[0;34m:\u001b[0m\u001b[0mi\u001b[0m\u001b[0;34m]\u001b[0m\u001b[0;34m\u001b[0m\u001b[0m\n\u001b[0;32m----> 7\u001b[0;31m     \u001b[0mX_train_temp\u001b[0m \u001b[0;34m=\u001b[0m \u001b[0mX_train\u001b[0m\u001b[0;34m[\u001b[0m\u001b[0mcols_to_use\u001b[0m\u001b[0;34m]\u001b[0m\u001b[0;34m\u001b[0m\u001b[0m\n\u001b[0m\u001b[1;32m      8\u001b[0m     \u001b[0;31m#Fit a model\u001b[0m\u001b[0;34m\u001b[0m\u001b[0;34m\u001b[0m\u001b[0m\n\u001b[1;32m      9\u001b[0m     \u001b[0mmodel\u001b[0m \u001b[0;34m=\u001b[0m \u001b[0mLinearRegression\u001b[0m\u001b[0;34m(\u001b[0m\u001b[0;34m)\u001b[0m\u001b[0;34m\u001b[0m\u001b[0m\n",
      "\u001b[0;32m~/anaconda3/lib/python3.6/site-packages/pandas/core/frame.py\u001b[0m in \u001b[0;36m__getitem__\u001b[0;34m(self, key)\u001b[0m\n\u001b[1;32m   2677\u001b[0m         \u001b[0;32mif\u001b[0m \u001b[0misinstance\u001b[0m\u001b[0;34m(\u001b[0m\u001b[0mkey\u001b[0m\u001b[0;34m,\u001b[0m \u001b[0;34m(\u001b[0m\u001b[0mSeries\u001b[0m\u001b[0;34m,\u001b[0m \u001b[0mnp\u001b[0m\u001b[0;34m.\u001b[0m\u001b[0mndarray\u001b[0m\u001b[0;34m,\u001b[0m \u001b[0mIndex\u001b[0m\u001b[0;34m,\u001b[0m \u001b[0mlist\u001b[0m\u001b[0;34m)\u001b[0m\u001b[0;34m)\u001b[0m\u001b[0;34m:\u001b[0m\u001b[0;34m\u001b[0m\u001b[0m\n\u001b[1;32m   2678\u001b[0m             \u001b[0;31m# either boolean or fancy integer index\u001b[0m\u001b[0;34m\u001b[0m\u001b[0;34m\u001b[0m\u001b[0m\n\u001b[0;32m-> 2679\u001b[0;31m             \u001b[0;32mreturn\u001b[0m \u001b[0mself\u001b[0m\u001b[0;34m.\u001b[0m\u001b[0m_getitem_array\u001b[0m\u001b[0;34m(\u001b[0m\u001b[0mkey\u001b[0m\u001b[0;34m)\u001b[0m\u001b[0;34m\u001b[0m\u001b[0m\n\u001b[0m\u001b[1;32m   2680\u001b[0m         \u001b[0;32melif\u001b[0m \u001b[0misinstance\u001b[0m\u001b[0;34m(\u001b[0m\u001b[0mkey\u001b[0m\u001b[0;34m,\u001b[0m \u001b[0mDataFrame\u001b[0m\u001b[0;34m)\u001b[0m\u001b[0;34m:\u001b[0m\u001b[0;34m\u001b[0m\u001b[0m\n\u001b[1;32m   2681\u001b[0m             \u001b[0;32mreturn\u001b[0m \u001b[0mself\u001b[0m\u001b[0;34m.\u001b[0m\u001b[0m_getitem_frame\u001b[0m\u001b[0;34m(\u001b[0m\u001b[0mkey\u001b[0m\u001b[0;34m)\u001b[0m\u001b[0;34m\u001b[0m\u001b[0m\n",
      "\u001b[0;32m~/anaconda3/lib/python3.6/site-packages/pandas/core/frame.py\u001b[0m in \u001b[0;36m_getitem_array\u001b[0;34m(self, key)\u001b[0m\n\u001b[1;32m   2721\u001b[0m             \u001b[0;32mreturn\u001b[0m \u001b[0mself\u001b[0m\u001b[0;34m.\u001b[0m\u001b[0m_take\u001b[0m\u001b[0;34m(\u001b[0m\u001b[0mindexer\u001b[0m\u001b[0;34m,\u001b[0m \u001b[0maxis\u001b[0m\u001b[0;34m=\u001b[0m\u001b[0;36m0\u001b[0m\u001b[0;34m)\u001b[0m\u001b[0;34m\u001b[0m\u001b[0m\n\u001b[1;32m   2722\u001b[0m         \u001b[0;32melse\u001b[0m\u001b[0;34m:\u001b[0m\u001b[0;34m\u001b[0m\u001b[0m\n\u001b[0;32m-> 2723\u001b[0;31m             \u001b[0mindexer\u001b[0m \u001b[0;34m=\u001b[0m \u001b[0mself\u001b[0m\u001b[0;34m.\u001b[0m\u001b[0mloc\u001b[0m\u001b[0;34m.\u001b[0m\u001b[0m_convert_to_indexer\u001b[0m\u001b[0;34m(\u001b[0m\u001b[0mkey\u001b[0m\u001b[0;34m,\u001b[0m \u001b[0maxis\u001b[0m\u001b[0;34m=\u001b[0m\u001b[0;36m1\u001b[0m\u001b[0;34m)\u001b[0m\u001b[0;34m\u001b[0m\u001b[0m\n\u001b[0m\u001b[1;32m   2724\u001b[0m             \u001b[0;32mreturn\u001b[0m \u001b[0mself\u001b[0m\u001b[0;34m.\u001b[0m\u001b[0m_take\u001b[0m\u001b[0;34m(\u001b[0m\u001b[0mindexer\u001b[0m\u001b[0;34m,\u001b[0m \u001b[0maxis\u001b[0m\u001b[0;34m=\u001b[0m\u001b[0;36m1\u001b[0m\u001b[0;34m)\u001b[0m\u001b[0;34m\u001b[0m\u001b[0m\n\u001b[1;32m   2725\u001b[0m \u001b[0;34m\u001b[0m\u001b[0m\n",
      "\u001b[0;32m~/anaconda3/lib/python3.6/site-packages/pandas/core/indexing.py\u001b[0m in \u001b[0;36m_convert_to_indexer\u001b[0;34m(self, obj, axis, is_setter)\u001b[0m\n\u001b[1;32m   1325\u001b[0m                 \u001b[0;32mif\u001b[0m \u001b[0mmask\u001b[0m\u001b[0;34m.\u001b[0m\u001b[0many\u001b[0m\u001b[0;34m(\u001b[0m\u001b[0;34m)\u001b[0m\u001b[0;34m:\u001b[0m\u001b[0;34m\u001b[0m\u001b[0m\n\u001b[1;32m   1326\u001b[0m                     raise KeyError('{mask} not in index'\n\u001b[0;32m-> 1327\u001b[0;31m                                    .format(mask=objarr[mask]))\n\u001b[0m\u001b[1;32m   1328\u001b[0m \u001b[0;34m\u001b[0m\u001b[0m\n\u001b[1;32m   1329\u001b[0m                 \u001b[0;32mreturn\u001b[0m \u001b[0mcom\u001b[0m\u001b[0;34m.\u001b[0m\u001b[0m_values_from_object\u001b[0m\u001b[0;34m(\u001b[0m\u001b[0mindexer\u001b[0m\u001b[0;34m)\u001b[0m\u001b[0;34m\u001b[0m\u001b[0m\n",
      "\u001b[0;31mKeyError\u001b[0m: \"Index(['num_reviews^5'], dtype='object') not in index\""
     ]
    }
   ],
   "source": [
    "train_errors = []\n",
    "test_errors = []\n",
    "num_feats = []\n",
    "for i in range(2,len(X.columns)+1):\n",
    "    #Subset to select features\n",
    "    cols_to_use = X.columns[:i]\n",
    "    X_train_temp = X_train[cols_to_use]\n",
    "    #Fit a model\n",
    "    model = LinearRegression()\n",
    "    model.fit(X_train_temp, y_train)\n",
    "    #Calculate Train errrors\n",
    "    y_hat_train = model.predict(X_train_temp)\n",
    "    train_errors.append(mse(y_train, y_hat_train))\n",
    "    #Calculate Test errors\n",
    "    X_test_temp = X_test[cols_to_use]\n",
    "    y_hat_test = model.predict(X_test_temp)\n",
    "    test_errors.append(mse(y_test, y_hat_test))\n",
    "    num_feats.append(i)\n",
    "plt.scatter(num_feats, train_errors, c='red', label='Train Errors')\n",
    "plt.scatter(num_feats, test_errors, c='blue', label='Test Errors')\n",
    "plt.legend(bbox_to_anchor=(1,1))\n",
    "plt.xlabel('Model Complexity: Number of Features')\n",
    "plt.ylabel('MSE')"
   ]
  },
  {
   "cell_type": "code",
   "execution_count": 39,
   "metadata": {},
   "outputs": [
    {
     "data": {
      "text/plain": [
       "(0, 0.01)"
      ]
     },
     "execution_count": 39,
     "metadata": {},
     "output_type": "execute_result"
    },
    {
     "data": {
      "image/png": "[encoded data removed]",
      "text/plain": [
       "<Figure size 432x288 with 1 Axes>"
      ]
     },
     "metadata": {},
     "output_type": "display_data"
    }
   ],
   "source": [
    "train_errors = []\n",
    "test_errors = []\n",
    "num_feats = []\n",
    "for i in range(2,200):\n",
    "    #Subset to select features\n",
    "    cols_to_use = X.columns[:i]\n",
    "    X_train_temp = X_train[cols_to_use]\n",
    "    #Fit a model\n",
    "    model = LinearRegression()\n",
    "    model.fit(X_train_temp, y_train)\n",
    "    #Calculate Train errrors\n",
    "    y_hat_train = model.predict(X_train_temp)\n",
    "    train_errors.append(mse(y_train, y_hat_train))\n",
    "    #Calculate Test errors\n",
    "    X_test_temp = X_test[cols_to_use]\n",
    "    y_hat_test = model.predict(X_test_temp)\n",
    "    test_errors.append(mse(y_test, y_hat_test))\n",
    "    num_feats.append(i)\n",
    "plt.scatter(num_feats, train_errors, c='red', label='Train Errors')\n",
    "plt.scatter(num_feats, test_errors, c='blue', label='Test Errors')\n",
    "plt.legend(bbox_to_anchor=(1,1))\n",
    "plt.xlabel('Model Complexity: Number of Features')\n",
    "plt.ylabel('MSE')\n",
    "plt.ylim(0, 0.01)"
   ]
  },
  {
   "cell_type": "code",
   "execution_count": 40,
   "metadata": {},
   "outputs": [
    {
     "data": {
      "text/plain": [
       "(0, 0.01)"
      ]
     },
     "execution_count": 40,
     "metadata": {},
     "output_type": "execute_result"
    },
    {
     "data": {
      "image/png": "[encoded data removed]",
      "text/plain": [
       "<Figure size 432x288 with 1 Axes>"
      ]
     },
     "metadata": {},
     "output_type": "display_data"
    }
   ],
   "source": [
    "train_errors = []\n",
    "test_errors = []\n",
    "num_feats = []\n",
    "for i in range(2,500):\n",
    "    #Subset to select features\n",
    "    cols_to_use = X.columns[:i]\n",
    "    X_train_temp = X_train[cols_to_use]\n",
    "    #Fit a model\n",
    "    model = LinearRegression()\n",
    "    model.fit(X_train_temp, y_train)\n",
    "    #Calculate Train errrors\n",
    "    y_hat_train = model.predict(X_train_temp)\n",
    "    train_errors.append(mse(y_train, y_hat_train))\n",
    "    #Calculate Test errors\n",
    "    X_test_temp = X_test[cols_to_use]\n",
    "    y_hat_test = model.predict(X_test_temp)\n",
    "    test_errors.append(mse(y_test, y_hat_test))\n",
    "    num_feats.append(i)\n",
    "plt.scatter(num_feats, train_errors, c='red', label='Train Errors')\n",
    "plt.scatter(num_feats, test_errors, c='blue', label='Test Errors')\n",
    "plt.legend(bbox_to_anchor=(1,1))\n",
    "plt.xlabel('Model Complexity: Number of Features')\n",
    "plt.ylabel('MSE')\n",
    "plt.ylim(0, 0.01)"
   ]
  },
  {
   "cell_type": "code",
   "execution_count": null,
   "metadata": {},
   "outputs": [],
   "source": [
    "train_errors = []\n",
    "test_errors = []\n",
    "num_feats = []\n",
    "for i in range(2,2000):\n",
    "    #Subset to select features\n",
    "    cols_to_use = X.columns[:i]\n",
    "    X_train_temp = X_train[cols_to_use]\n",
    "    #Fit a model\n",
    "    model = LinearRegression()\n",
    "    model.fit(X_train_temp, y_train)\n",
    "    #Calculate Train errrors\n",
    "    y_hat_train = model.predict(X_train_temp)\n",
    "    train_errors.append(mse(y_train, y_hat_train))\n",
    "    #Calculate Test errors\n",
    "    X_test_temp = X_test[cols_to_use]\n",
    "    y_hat_test = model.predict(X_test_temp)\n",
    "    test_errors.append(mse(y_test, y_hat_test))\n",
    "    num_feats.append(i)\n",
    "plt.scatter(num_feats, train_errors, c='red', label='Train Errors')\n",
    "plt.scatter(num_feats, test_errors, c='blue', label='Test Errors')\n",
    "plt.legend(bbox_to_anchor=(1,1))\n",
    "plt.xlabel('Model Complexity: Number of Features')\n",
    "plt.ylabel('MSE')\n",
    "plt.ylim(0, 0.01)"
   ]
  },
  {
   "cell_type": "markdown",
   "metadata": {},
   "source": [
    "## Bonus:   \n",
    "### Iterate over training size sets from 5%-95% of the total sample size and calculate both the training error (minimized rss) and the test error (rss) for each of these splits. Plot these two curves (train error vs. training size and test error vs. training size) on a graph. "
   ]
  },
  {
   "cell_type": "code",
   "execution_count": null,
   "metadata": {},
   "outputs": [],
   "source": []
  }
 ],
 "metadata": {
  "kernelspec": {
   "display_name": "Python 3",
   "language": "python",
   "name": "python3"
  },
  "language_info": {
   "codemirror_mode": {
    "name": "ipython",
    "version": 3
   },
   "file_extension": ".py",
   "mimetype": "text/x-python",
   "name": "python",
   "nbconvert_exporter": "python",
   "pygments_lexer": "ipython3",
   "version": "3.6.5"
  }
 },
 "nbformat": 4,
 "nbformat_minor": 2
}
